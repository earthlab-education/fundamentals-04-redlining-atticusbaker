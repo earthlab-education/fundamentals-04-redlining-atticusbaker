{
 "cells": [
  {
   "cell_type": "markdown",
   "id": "c6d4416c-848e-45b9-b5f0-b22939521c17",
   "metadata": {},
   "source": [
    "# STEP 6: Calculate zonal statistics\n",
    "\n",
    "In order to evaluate the connection between vegetation health and\n",
    "redlining, we need to summarize NDVI across the same geographic areas as\n",
    "we have redlining information.\n",
    "\n",
    "First, import variables from previous notebooks:"
   ]
  },
  {
   "cell_type": "code",
   "execution_count": 36,
   "id": "8f1f6fdf",
   "metadata": {},
   "outputs": [],
   "source": [
    "store -r denver_redlining_gdf ndvi_da band_dict\n"
   ]
  },
  {
   "cell_type": "markdown",
   "id": "0892b3e0-9c80-4c96-bfd4-be5f96b47fb4",
   "metadata": {},
   "source": [
    "<link rel=\"stylesheet\" type=\"text/css\" href=\"./assets/styles.css\"><div class=\"callout callout-style-default callout-titled callout-task\"><div class=\"callout-header\"><div class=\"callout-icon-container\"><i class=\"callout-icon\"></i></div><div class=\"callout-title-container flex-fill\">Try It: Import packages</div></div><div class=\"callout-body-container callout-body\"><p>Some packages are included that will help you calculate statistics\n",
    "for areas imported below. Add packages for:</p>\n",
    "<ol type=\"1\">\n",
    "<li>Interactive plotting of tabular and vector data</li>\n",
    "<li>Working with categorical data in <code>DataFrame</code>s</li>\n",
    "</ol></div></div>"
   ]
  },
  {
   "cell_type": "code",
   "execution_count": 41,
   "id": "1962e9a6",
   "metadata": {
    "highlight": true
   },
   "outputs": [
    {
     "ename": "ImportError",
     "evalue": "Numba needs NumPy 2.0 or less. Got NumPy 2.2.",
     "output_type": "error",
     "traceback": [
      "\u001b[1;31m---------------------------------------------------------------------------\u001b[0m",
      "\u001b[1;31mImportError\u001b[0m                               Traceback (most recent call last)",
      "Cell \u001b[1;32mIn[41], line 12\u001b[0m\n\u001b[0;32m     10\u001b[0m \u001b[38;5;66;03m# Ordered categorical data\u001b[39;00m\n\u001b[0;32m     11\u001b[0m \u001b[38;5;28;01mimport\u001b[39;00m \u001b[38;5;21;01mregionmask\u001b[39;00m \u001b[38;5;66;03m# Convert shapefile to mask\u001b[39;00m\n\u001b[1;32m---> 12\u001b[0m \u001b[38;5;28;01mfrom\u001b[39;00m \u001b[38;5;21;01mxrspatial\u001b[39;00m \u001b[38;5;28;01mimport\u001b[39;00m zonal_stats \u001b[38;5;66;03m# Calculate zonal statistics\u001b[39;00m\n",
      "File \u001b[1;32mc:\\Users\\ABaker\\OneDrive - UCB-O365\\GEOG 4463\\Redlining\\fundamentals-04-redlining-atticusbaker\\fundamentals-04-redlining-atticusbaker\\.venv\\Lib\\site-packages\\xrspatial\\__init__.py:1\u001b[0m\n\u001b[1;32m----> 1\u001b[0m \u001b[38;5;28;01mfrom\u001b[39;00m \u001b[38;5;21;01mxrspatial\u001b[39;00m\u001b[38;5;21;01m.\u001b[39;00m\u001b[38;5;21;01maspect\u001b[39;00m \u001b[38;5;28;01mimport\u001b[39;00m aspect  \u001b[38;5;66;03m# noqa\u001b[39;00m\n\u001b[0;32m      2\u001b[0m \u001b[38;5;28;01mfrom\u001b[39;00m \u001b[38;5;21;01mxrspatial\u001b[39;00m\u001b[38;5;21;01m.\u001b[39;00m\u001b[38;5;21;01mbump\u001b[39;00m \u001b[38;5;28;01mimport\u001b[39;00m bump  \u001b[38;5;66;03m# noqa\u001b[39;00m\n\u001b[0;32m      3\u001b[0m \u001b[38;5;28;01mfrom\u001b[39;00m \u001b[38;5;21;01mxrspatial\u001b[39;00m\u001b[38;5;21;01m.\u001b[39;00m\u001b[38;5;21;01mclassify\u001b[39;00m \u001b[38;5;28;01mimport\u001b[39;00m binary  \u001b[38;5;66;03m# noqa\u001b[39;00m\n",
      "File \u001b[1;32mc:\\Users\\ABaker\\OneDrive - UCB-O365\\GEOG 4463\\Redlining\\fundamentals-04-redlining-atticusbaker\\fundamentals-04-redlining-atticusbaker\\.venv\\Lib\\site-packages\\xrspatial\\aspect.py:8\u001b[0m\n\u001b[0;32m      6\u001b[0m \u001b[38;5;28;01mimport\u001b[39;00m \u001b[38;5;21;01mnumpy\u001b[39;00m \u001b[38;5;28;01mas\u001b[39;00m \u001b[38;5;21;01mnp\u001b[39;00m\n\u001b[0;32m      7\u001b[0m \u001b[38;5;28;01mimport\u001b[39;00m \u001b[38;5;21;01mxarray\u001b[39;00m \u001b[38;5;28;01mas\u001b[39;00m \u001b[38;5;21;01mxr\u001b[39;00m\n\u001b[1;32m----> 8\u001b[0m \u001b[38;5;28;01mfrom\u001b[39;00m \u001b[38;5;21;01mnumba\u001b[39;00m \u001b[38;5;28;01mimport\u001b[39;00m cuda\n\u001b[0;32m     10\u001b[0m \u001b[38;5;28;01mfrom\u001b[39;00m \u001b[38;5;21;01mxrspatial\u001b[39;00m\u001b[38;5;21;01m.\u001b[39;00m\u001b[38;5;21;01mutils\u001b[39;00m \u001b[38;5;28;01mimport\u001b[39;00m ArrayTypeFunctionMapping, cuda_args, ngjit, not_implemented_func\n\u001b[0;32m     12\u001b[0m \u001b[38;5;66;03m# 3rd-party\u001b[39;00m\n",
      "File \u001b[1;32mc:\\Users\\ABaker\\OneDrive - UCB-O365\\GEOG 4463\\Redlining\\fundamentals-04-redlining-atticusbaker\\fundamentals-04-redlining-atticusbaker\\.venv\\Lib\\site-packages\\numba\\__init__.py:59\u001b[0m\n\u001b[0;32m     54\u001b[0m             msg \u001b[38;5;241m=\u001b[39m (\u001b[38;5;124m\"\u001b[39m\u001b[38;5;124mNumba requires SciPy version 1.0 or greater. Got SciPy \u001b[39m\u001b[38;5;124m\"\u001b[39m\n\u001b[0;32m     55\u001b[0m                    \u001b[38;5;124mf\u001b[39m\u001b[38;5;124m\"\u001b[39m\u001b[38;5;132;01m{\u001b[39;00mscipy\u001b[38;5;241m.\u001b[39m__version__\u001b[38;5;132;01m}\u001b[39;00m\u001b[38;5;124m.\u001b[39m\u001b[38;5;124m\"\u001b[39m)\n\u001b[0;32m     56\u001b[0m             \u001b[38;5;28;01mraise\u001b[39;00m \u001b[38;5;167;01mImportError\u001b[39;00m(msg)\n\u001b[1;32m---> 59\u001b[0m \u001b[43m_ensure_critical_deps\u001b[49m\u001b[43m(\u001b[49m\u001b[43m)\u001b[49m\n\u001b[0;32m     60\u001b[0m \u001b[38;5;66;03m# END DO NOT MOVE\u001b[39;00m\n\u001b[0;32m     61\u001b[0m \u001b[38;5;66;03m# ---------------------- WARNING WARNING WARNING ----------------------------\u001b[39;00m\n\u001b[0;32m     64\u001b[0m \u001b[38;5;28;01mfrom\u001b[39;00m \u001b[38;5;21;01m.\u001b[39;00m\u001b[38;5;21;01m_version\u001b[39;00m \u001b[38;5;28;01mimport\u001b[39;00m get_versions\n",
      "File \u001b[1;32mc:\\Users\\ABaker\\OneDrive - UCB-O365\\GEOG 4463\\Redlining\\fundamentals-04-redlining-atticusbaker\\fundamentals-04-redlining-atticusbaker\\.venv\\Lib\\site-packages\\numba\\__init__.py:45\u001b[0m, in \u001b[0;36m_ensure_critical_deps\u001b[1;34m()\u001b[0m\n\u001b[0;32m     42\u001b[0m \u001b[38;5;28;01mif\u001b[39;00m numpy_version \u001b[38;5;241m>\u001b[39m (\u001b[38;5;241m2\u001b[39m, \u001b[38;5;241m0\u001b[39m):\n\u001b[0;32m     43\u001b[0m     msg \u001b[38;5;241m=\u001b[39m (\u001b[38;5;124mf\u001b[39m\u001b[38;5;124m\"\u001b[39m\u001b[38;5;124mNumba needs NumPy 2.0 or less. Got NumPy \u001b[39m\u001b[38;5;124m\"\u001b[39m\n\u001b[0;32m     44\u001b[0m            \u001b[38;5;124mf\u001b[39m\u001b[38;5;124m\"\u001b[39m\u001b[38;5;132;01m{\u001b[39;00mnumpy_version[\u001b[38;5;241m0\u001b[39m]\u001b[38;5;132;01m}\u001b[39;00m\u001b[38;5;124m.\u001b[39m\u001b[38;5;132;01m{\u001b[39;00mnumpy_version[\u001b[38;5;241m1\u001b[39m]\u001b[38;5;132;01m}\u001b[39;00m\u001b[38;5;124m.\u001b[39m\u001b[38;5;124m\"\u001b[39m)\n\u001b[1;32m---> 45\u001b[0m     \u001b[38;5;28;01mraise\u001b[39;00m \u001b[38;5;167;01mImportError\u001b[39;00m(msg)\n\u001b[0;32m     47\u001b[0m \u001b[38;5;28;01mtry\u001b[39;00m:\n\u001b[0;32m     48\u001b[0m     \u001b[38;5;28;01mimport\u001b[39;00m \u001b[38;5;21;01mscipy\u001b[39;00m\n",
      "\u001b[1;31mImportError\u001b[0m: Numba needs NumPy 2.0 or less. Got NumPy 2.2."
     ]
    }
   ],
   "source": [
    "# Interactive plots with pandas\n",
    "import plotly\n",
    "import hvplot\n",
    "import bokeh\n",
    "import geoviews\n",
    "import geopandas as gpd\n",
    "import panel as pn\n",
    "import cartopy.crs as ccrs # CRSs\n",
    "\n",
    "# Ordered categorical data\n",
    "import regionmask # Convert shapefile to mask\n",
    "from xrspatial import zonal_stats # Calculate zonal statistics"
   ]
  },
  {
   "cell_type": "markdown",
   "id": "3a9e01b4-ccea-4b3f-9e7f-785db5177aed",
   "metadata": {},
   "source": [
    "<link rel=\"stylesheet\" type=\"text/css\" href=\"./assets/styles.css\"><div class=\"callout callout-style-default callout-titled callout-task\"><div class=\"callout-header\"><div class=\"callout-icon-container\"><i class=\"callout-icon\"></i></div><div class=\"callout-title-container flex-fill\">Try It: Convert vector to raster</div></div><div class=\"callout-body-container callout-body\"><p>You can convert your vector data to a raster mask using the\n",
    "<code>regionmask</code> package. You will need to give\n",
    "<code>regionmask</code> the geographic coordinates of the grid you are\n",
    "using for this to work:</p>\n",
    "<ol type=\"1\">\n",
    "<li>Replace <code>gdf</code> with your redlining\n",
    "<code>GeoDataFrame</code>.</li>\n",
    "<li>Add code to put your <code>GeoDataFrame</code> in the same CRS as\n",
    "your raster data.</li>\n",
    "<li>Replace <code>x_coord</code> and <code>y_coord</code> with the x and\n",
    "y coordinates from your raster data.</li>\n",
    "</ol></div></div>"
   ]
  },
  {
   "cell_type": "code",
   "execution_count": null,
   "id": "d71e0470",
   "metadata": {
    "highlight": true
   },
   "outputs": [
    {
     "name": "stderr",
     "output_type": "stream",
     "text": [
      "C:\\Users\\ABaker\\AppData\\Local\\Temp\\ipykernel_26996\\2648482010.py:1: UserWarning: No gridpoint belongs to any region. Returning an all-NaN mask.\n",
      "  denver_redlining_mask = regionmask.mask_geopandas(\n"
     ]
    }
   ],
   "source": [
    "denver_redlining_mask = regionmask.mask_geopandas(\n",
    "    denver_redlining_gdf.to_crs(ccrs.Mercator()),\n",
    "    ndvi_da.x, ndvi_da.y,\n",
    "    # The regions do not overlap\n",
    "    overlap=False,\n",
    "    # We're not using geographic coordinates\n",
    "    wrap_lon=False)"
   ]
  },
  {
   "cell_type": "markdown",
   "id": "e6f5fd47-953e-4a0b-8a06-79b9bc7203b2",
   "metadata": {},
   "source": [
    "<link rel=\"stylesheet\" type=\"text/css\" href=\"./assets/styles.css\"><div class=\"callout callout-style-default callout-titled callout-task\"><div class=\"callout-header\"><div class=\"callout-icon-container\"><i class=\"callout-icon\"></i></div><div class=\"callout-title-container flex-fill\">Try It: Calculate zonal statistics</div></div><div class=\"callout-body-container callout-body\"><p>Calculate zonal status using the <code>zonal_stats()</code> function.\n",
    "To figure out which arguments it needs, use either the\n",
    "<code>help()</code> function in Python, or search the internet.</p></div></div>"
   ]
  },
  {
   "cell_type": "code",
   "execution_count": null,
   "id": "e3b82bef",
   "metadata": {
    "highlight": true
   },
   "outputs": [
    {
     "ename": "NameError",
     "evalue": "name 'zonal_stats' is not defined",
     "output_type": "error",
     "traceback": [
      "\u001b[1;31m---------------------------------------------------------------------------\u001b[0m",
      "\u001b[1;31mNameError\u001b[0m                                 Traceback (most recent call last)",
      "Cell \u001b[1;32mIn[32], line 3\u001b[0m\n\u001b[0;32m      1\u001b[0m \u001b[38;5;66;03m# Calculate NDVI stats for each redlining zone\u001b[39;00m\n\u001b[0;32m      2\u001b[0m \u001b[38;5;66;03m#From here on out, this will all be pseudocode, since xrspatial did not import properly and I cannot get it to work.\u001b[39;00m\n\u001b[1;32m----> 3\u001b[0m stats\u001b[38;5;241m=\u001b[39m\u001b[43mzonal_stats\u001b[49m(denver_redlining_gdf,ndvi_da)\n",
      "\u001b[1;31mNameError\u001b[0m: name 'zonal_stats' is not defined"
     ]
    }
   ],
   "source": [
    "# Calculate NDVI stats for each redlining zone\n",
    "#From here on out, this will all be pseudocode, since xrspatial did not import properly and I cannot get it to work.\n",
    "denver_ndvi_stats=zonal_stats(zones=denver_redlining_gdf,values=ndvi_da)\n",
    "#this will result in a list of dictionaries with stats for each element in the GDF."
   ]
  },
  {
   "cell_type": "markdown",
   "id": "d14c6bd6-b3d4-4bd3-b880-190929833e3e",
   "metadata": {},
   "source": [
    "<link rel=\"stylesheet\" type=\"text/css\" href=\"./assets/styles.css\"><div class=\"callout callout-style-default callout-titled callout-task\"><div class=\"callout-header\"><div class=\"callout-icon-container\"><i class=\"callout-icon\"></i></div><div class=\"callout-title-container flex-fill\">Try It: Plot regional statistics</div></div><div class=\"callout-body-container callout-body\"><p>Plot the regional statistics:</p>\n",
    "<ol type=\"1\">\n",
    "<li>Merge the NDVI values into the redlining\n",
    "<code>GeoDataFrame</code>.</li>\n",
    "<li>Use the code template below to convert the <code>grade</code> column\n",
    "(<code>str</code> or <code>object</code> type) to an ordered\n",
    "<code>pd.Categorical</code> type. This will let you use ordered color\n",
    "maps with the grade data!</li>\n",
    "<li>Drop all <code>NA</code> grade values.</li>\n",
    "<li>Plot the NDVI and the redlining grade next to each other in linked\n",
    "subplots.</li>\n",
    "</ol></div></div>"
   ]
  },
  {
   "cell_type": "code",
   "execution_count": null,
   "id": "7a0a1bc9",
   "metadata": {
    "highlight": true
   },
   "outputs": [
    {
     "ename": "NameError",
     "evalue": "name 'denver_ndvi_stats' is not defined",
     "output_type": "error",
     "traceback": [
      "\u001b[1;31m---------------------------------------------------------------------------\u001b[0m",
      "\u001b[1;31mNameError\u001b[0m                                 Traceback (most recent call last)",
      "Cell \u001b[1;32mIn[35], line 2\u001b[0m\n\u001b[0;32m      1\u001b[0m \u001b[38;5;66;03m# Merge the NDVI stats with redlining geometry into one `GeoDataFrame`\u001b[39;00m\n\u001b[1;32m----> 2\u001b[0m denver_ndvi_stats_gdf\u001b[38;5;241m=\u001b[39mdenver_redlining_gdf\u001b[38;5;241m.\u001b[39mmerge(\u001b[43mdenver_ndvi_stats\u001b[49m\u001b[38;5;241m.\u001b[39mset_index(\u001b[38;5;124m'\u001b[39m\u001b[38;5;124mzone\u001b[39m\u001b[38;5;124m'\u001b[39m),left_index\u001b[38;5;241m=\u001b[39m\u001b[38;5;28;01mTrue\u001b[39;00m,right_index\u001b[38;5;241m=\u001b[39m\u001b[38;5;28;01mTrue\u001b[39;00m)\n\u001b[0;32m      4\u001b[0m \u001b[38;5;66;03m# Change grade to ordered Categorical for plotting\u001b[39;00m\n\u001b[0;32m      5\u001b[0m denver_ndvi_stats_gdf\u001b[38;5;241m.\u001b[39mgrade \u001b[38;5;241m=\u001b[39m pd\u001b[38;5;241m.\u001b[39mCategorical(\n\u001b[0;32m      6\u001b[0m     denver_ndvi_stats_gdf\u001b[38;5;241m.\u001b[39mgrade,\n\u001b[0;32m      7\u001b[0m     ordered\u001b[38;5;241m=\u001b[39m\u001b[38;5;28;01mTrue\u001b[39;00m,\n\u001b[0;32m      8\u001b[0m     categories\u001b[38;5;241m=\u001b[39m[\u001b[38;5;124m'\u001b[39m\u001b[38;5;124mA\u001b[39m\u001b[38;5;124m'\u001b[39m, \u001b[38;5;124m'\u001b[39m\u001b[38;5;124mB\u001b[39m\u001b[38;5;124m'\u001b[39m, \u001b[38;5;124m'\u001b[39m\u001b[38;5;124mC\u001b[39m\u001b[38;5;124m'\u001b[39m, \u001b[38;5;124m'\u001b[39m\u001b[38;5;124mD\u001b[39m\u001b[38;5;124m'\u001b[39m]\n\u001b[0;32m      9\u001b[0m )\n",
      "\u001b[1;31mNameError\u001b[0m: name 'denver_ndvi_stats' is not defined"
     ]
    }
   ],
   "source": [
    "# Merge the NDVI stats with redlining geometry into one `GeoDataFrame`\n",
    "denver_ndvi_stats_gdf=denver_redlining_gdf.merge(denver_ndvi_stats.set_index('zone'),left_index=True,right_index=True)\n",
    "\n",
    "# Change grade to ordered Categorical for plotting\n",
    "denver_ndvi_stats_gdf.grade = pd.Categorical(\n",
    "    denver_ndvi_stats_gdf.grade,\n",
    "    ordered=True,\n",
    "    categories=['A', 'B', 'C', 'D']\n",
    ")\n",
    "\n",
    "# Drop rows with NA grades\n",
    "denver_ndvi_stats_gdf = denver_ndvi_stats_gdf.dropna(subset=[\"grade\"])\n",
    "\n",
    "# Plot NDVI and redlining grade in linked subplots\n",
    "(denver_ndvi_stats_gdf.hvplot(\n",
    "    c=mean,\n",
    "    geo=True\n",
    ")+ denver_ndvi_stats_gdf.hvplot(\n",
    "    c=grades,\n",
    "    geo=True\n",
    ")\n",
    ")"
   ]
  },
  {
   "cell_type": "code",
   "execution_count": null,
   "id": "ed98342c",
   "metadata": {},
   "outputs": [],
   "source": [
    "store denver_ndvi_stats_gdf"
   ]
  }
 ],
 "metadata": {
  "kernelspec": {
   "display_name": ".venv",
   "language": "python",
   "name": "python3"
  },
  "language_info": {
   "codemirror_mode": {
    "name": "ipython",
    "version": 3
   },
   "file_extension": ".py",
   "mimetype": "text/x-python",
   "name": "python",
   "nbconvert_exporter": "python",
   "pygments_lexer": "ipython3",
   "version": "3.11.9"
  }
 },
 "nbformat": 4,
 "nbformat_minor": 5
}
