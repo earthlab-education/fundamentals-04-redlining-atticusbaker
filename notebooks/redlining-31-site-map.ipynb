{
 "cells": [
  {
   "cell_type": "markdown",
   "id": "6628cc56-ca72-4409-acc0-edd3e082d4a6",
   "metadata": {},
   "source": [
    "# STEP 1: Set up your analysis\n",
    "\n",
    "<link rel=\"stylesheet\" type=\"text/css\" href=\"./assets/styles.css\"><div class=\"callout callout-style-default callout-titled callout-task\"><div class=\"callout-header\"><div class=\"callout-icon-container\"><i class=\"callout-icon\"></i></div><div class=\"callout-title-container flex-fill\">Try It: Import packages</div></div><div class=\"callout-body-container callout-body\"><p>Add imports for packages that help you:</p>\n",
    "<ol type=\"1\">\n",
    "<li>Work with the file system interoperably</li>\n",
    "<li>Work with vector data</li>\n",
    "<li>Create interactive plots of vector data</li>\n",
    "</ol></div></div>"
   ]
  },
  {
   "cell_type": "code",
   "execution_count": 22,
   "id": "36373378",
   "metadata": {
    "highlight": true
   },
   "outputs": [
    {
     "data": {
      "text/html": [
       "<script type=\"esms-options\">{\"shimMode\": true}</script><style>*[data-root-id],\n",
       "*[data-root-id] > * {\n",
       "  box-sizing: border-box;\n",
       "  font-family: var(--jp-ui-font-family);\n",
       "  font-size: var(--jp-ui-font-size1);\n",
       "  color: var(--vscode-editor-foreground, var(--jp-ui-font-color1));\n",
       "}\n",
       "\n",
       "/* Override VSCode background color */\n",
       ".cell-output-ipywidget-background:has(\n",
       "    > .cell-output-ipywidget-background > .lm-Widget > *[data-root-id]\n",
       "  ),\n",
       ".cell-output-ipywidget-background:has(> .lm-Widget > *[data-root-id]) {\n",
       "  background-color: transparent !important;\n",
       "}\n",
       "</style>"
      ]
     },
     "metadata": {},
     "output_type": "display_data"
    },
    {
     "data": {
      "application/javascript": "(function(root) {\n  function now() {\n    return new Date();\n  }\n\n  const force = true;\n  const py_version = '3.6.2'.replace('rc', '-rc.').replace('.dev', '-dev.');\n  const reloading = false;\n  const Bokeh = root.Bokeh;\n\n  // Set a timeout for this load but only if we are not already initializing\n  if (typeof (root._bokeh_timeout) === \"undefined\" || (force || !root._bokeh_is_initializing)) {\n    root._bokeh_timeout = Date.now() + 5000;\n    root._bokeh_failed_load = false;\n  }\n\n  function run_callbacks() {\n    try {\n      root._bokeh_onload_callbacks.forEach(function(callback) {\n        if (callback != null)\n          callback();\n      });\n    } finally {\n      delete root._bokeh_onload_callbacks;\n    }\n    console.debug(\"Bokeh: all callbacks have finished\");\n  }\n\n  function load_libs(css_urls, js_urls, js_modules, js_exports, callback) {\n    if (css_urls == null) css_urls = [];\n    if (js_urls == null) js_urls = [];\n    if (js_modules == null) js_modules = [];\n    if (js_exports == null) js_exports = {};\n\n    root._bokeh_onload_callbacks.push(callback);\n\n    if (root._bokeh_is_loading > 0) {\n      // Don't load bokeh if it is still initializing\n      console.debug(\"Bokeh: BokehJS is being loaded, scheduling callback at\", now());\n      return null;\n    } else if (js_urls.length === 0 && js_modules.length === 0 && Object.keys(js_exports).length === 0) {\n      // There is nothing to load\n      run_callbacks();\n      return null;\n    }\n\n    function on_load() {\n      root._bokeh_is_loading--;\n      if (root._bokeh_is_loading === 0) {\n        console.debug(\"Bokeh: all BokehJS libraries/stylesheets loaded\");\n        run_callbacks()\n      }\n    }\n    window._bokeh_on_load = on_load\n\n    function on_error(e) {\n      const src_el = e.srcElement\n      console.error(\"failed to load \" + (src_el.href || src_el.src));\n    }\n\n    const skip = [];\n    if (window.requirejs) {\n      window.requirejs.config({'packages': {}, 'paths': {}, 'shim': {}});\n      root._bokeh_is_loading = css_urls.length + 0;\n    } else {\n      root._bokeh_is_loading = css_urls.length + js_urls.length + js_modules.length + Object.keys(js_exports).length;\n    }\n\n    const existing_stylesheets = []\n    const links = document.getElementsByTagName('link')\n    for (let i = 0; i < links.length; i++) {\n      const link = links[i]\n      if (link.href != null) {\n        existing_stylesheets.push(link.href)\n      }\n    }\n    for (let i = 0; i < css_urls.length; i++) {\n      const url = css_urls[i];\n      const escaped = encodeURI(url)\n      if (existing_stylesheets.indexOf(escaped) !== -1) {\n        on_load()\n        continue;\n      }\n      const element = document.createElement(\"link\");\n      element.onload = on_load;\n      element.onerror = on_error;\n      element.rel = \"stylesheet\";\n      element.type = \"text/css\";\n      element.href = url;\n      console.debug(\"Bokeh: injecting link tag for BokehJS stylesheet: \", url);\n      document.body.appendChild(element);\n    }    var existing_scripts = []\n    const scripts = document.getElementsByTagName('script')\n    for (let i = 0; i < scripts.length; i++) {\n      var script = scripts[i]\n      if (script.src != null) {\n        existing_scripts.push(script.src)\n      }\n    }\n    for (let i = 0; i < js_urls.length; i++) {\n      const url = js_urls[i];\n      const escaped = encodeURI(url)\n      if (skip.indexOf(escaped) !== -1 || existing_scripts.indexOf(escaped) !== -1) {\n        if (!window.requirejs) {\n          on_load();\n        }\n        continue;\n      }\n      const element = document.createElement('script');\n      element.onload = on_load;\n      element.onerror = on_error;\n      element.async = false;\n      element.src = url;\n      console.debug(\"Bokeh: injecting script tag for BokehJS library: \", url);\n      document.head.appendChild(element);\n    }\n    for (let i = 0; i < js_modules.length; i++) {\n      const url = js_modules[i];\n      const escaped = encodeURI(url)\n      if (skip.indexOf(escaped) !== -1 || existing_scripts.indexOf(escaped) !== -1) {\n        if (!window.requirejs) {\n          on_load();\n        }\n        continue;\n      }\n      var element = document.createElement('script');\n      element.onload = on_load;\n      element.onerror = on_error;\n      element.async = false;\n      element.src = url;\n      element.type = \"module\";\n      console.debug(\"Bokeh: injecting script tag for BokehJS library: \", url);\n      document.head.appendChild(element);\n    }\n    for (const name in js_exports) {\n      const url = js_exports[name];\n      const escaped = encodeURI(url)\n      if (skip.indexOf(escaped) >= 0 || root[name] != null) {\n        if (!window.requirejs) {\n          on_load();\n        }\n        continue;\n      }\n      var element = document.createElement('script');\n      element.onerror = on_error;\n      element.async = false;\n      element.type = \"module\";\n      console.debug(\"Bokeh: injecting script tag for BokehJS library: \", url);\n      element.textContent = `\n      import ${name} from \"${url}\"\n      window.${name} = ${name}\n      window._bokeh_on_load()\n      `\n      document.head.appendChild(element);\n    }\n    if (!js_urls.length && !js_modules.length) {\n      on_load()\n    }\n  };\n\n  function inject_raw_css(css) {\n    const element = document.createElement(\"style\");\n    element.appendChild(document.createTextNode(css));\n    document.body.appendChild(element);\n  }\n\n  const js_urls = [\"https://cdn.holoviz.org/panel/1.5.4/dist/bundled/reactiveesm/es-module-shims@^1.10.0/dist/es-module-shims.min.js\", \"https://cdn.bokeh.org/bokeh/release/bokeh-3.6.2.min.js\", \"https://cdn.bokeh.org/bokeh/release/bokeh-gl-3.6.2.min.js\", \"https://cdn.bokeh.org/bokeh/release/bokeh-widgets-3.6.2.min.js\", \"https://cdn.bokeh.org/bokeh/release/bokeh-tables-3.6.2.min.js\", \"https://cdn.holoviz.org/panel/1.5.4/dist/panel.min.js\", \"https://cdn.jsdelivr.net/npm/@holoviz/geoviews@1.13.1/dist/geoviews.min.js\"];\n  const js_modules = [];\n  const js_exports = {};\n  const css_urls = [];\n  const inline_js = [    function(Bokeh) {\n      Bokeh.set_log_level(\"info\");\n    },\nfunction(Bokeh) {} // ensure no trailing comma for IE\n  ];\n\n  function run_inline_js() {\n    if ((root.Bokeh !== undefined) || (force === true)) {\n      for (let i = 0; i < inline_js.length; i++) {\n        try {\n          inline_js[i].call(root, root.Bokeh);\n        } catch(e) {\n          if (!reloading) {\n            throw e;\n          }\n        }\n      }\n      // Cache old bokeh versions\n      if (Bokeh != undefined && !reloading) {\n        var NewBokeh = root.Bokeh;\n        if (Bokeh.versions === undefined) {\n          Bokeh.versions = new Map();\n        }\n        if (NewBokeh.version !== Bokeh.version) {\n          Bokeh.versions.set(NewBokeh.version, NewBokeh)\n        }\n        root.Bokeh = Bokeh;\n      }\n    } else if (Date.now() < root._bokeh_timeout) {\n      setTimeout(run_inline_js, 100);\n    } else if (!root._bokeh_failed_load) {\n      console.log(\"Bokeh: BokehJS failed to load within specified timeout.\");\n      root._bokeh_failed_load = true;\n    }\n    root._bokeh_is_initializing = false\n  }\n\n  function load_or_wait() {\n    // Implement a backoff loop that tries to ensure we do not load multiple\n    // versions of Bokeh and its dependencies at the same time.\n    // In recent versions we use the root._bokeh_is_initializing flag\n    // to determine whether there is an ongoing attempt to initialize\n    // bokeh, however for backward compatibility we also try to ensure\n    // that we do not start loading a newer (Panel>=1.0 and Bokeh>3) version\n    // before older versions are fully initialized.\n    if (root._bokeh_is_initializing && Date.now() > root._bokeh_timeout) {\n      // If the timeout and bokeh was not successfully loaded we reset\n      // everything and try loading again\n      root._bokeh_timeout = Date.now() + 5000;\n      root._bokeh_is_initializing = false;\n      root._bokeh_onload_callbacks = undefined;\n      root._bokeh_is_loading = 0\n      console.log(\"Bokeh: BokehJS was loaded multiple times but one version failed to initialize.\");\n      load_or_wait();\n    } else if (root._bokeh_is_initializing || (typeof root._bokeh_is_initializing === \"undefined\" && root._bokeh_onload_callbacks !== undefined)) {\n      setTimeout(load_or_wait, 100);\n    } else {\n      root._bokeh_is_initializing = true\n      root._bokeh_onload_callbacks = []\n      const bokeh_loaded = root.Bokeh != null && (root.Bokeh.version === py_version || (root.Bokeh.versions !== undefined && root.Bokeh.versions.has(py_version)));\n      if (!reloading && !bokeh_loaded) {\n        if (root.Bokeh) {\n          root.Bokeh = undefined;\n        }\n        console.debug(\"Bokeh: BokehJS not loaded, scheduling load and callback at\", now());\n      }\n      load_libs(css_urls, js_urls, js_modules, js_exports, function() {\n        console.debug(\"Bokeh: BokehJS plotting callback run at\", now());\n        run_inline_js();\n      });\n    }\n  }\n  // Give older versions of the autoload script a head-start to ensure\n  // they initialize before we start loading newer version.\n  setTimeout(load_or_wait, 100)\n}(window));",
      "application/vnd.holoviews_load.v0+json": ""
     },
     "metadata": {},
     "output_type": "display_data"
    },
    {
     "data": {
      "application/javascript": "\nif ((window.PyViz === undefined) || (window.PyViz instanceof HTMLElement)) {\n  window.PyViz = {comms: {}, comm_status:{}, kernels:{}, receivers: {}, plot_index: []}\n}\n\n\n    function JupyterCommManager() {\n    }\n\n    JupyterCommManager.prototype.register_target = function(plot_id, comm_id, msg_handler) {\n      if (window.comm_manager || ((window.Jupyter !== undefined) && (Jupyter.notebook.kernel != null))) {\n        var comm_manager = window.comm_manager || Jupyter.notebook.kernel.comm_manager;\n        comm_manager.register_target(comm_id, function(comm) {\n          comm.on_msg(msg_handler);\n        });\n      } else if ((plot_id in window.PyViz.kernels) && (window.PyViz.kernels[plot_id])) {\n        window.PyViz.kernels[plot_id].registerCommTarget(comm_id, function(comm) {\n          comm.onMsg = msg_handler;\n        });\n      } else if (typeof google != 'undefined' && google.colab.kernel != null) {\n        google.colab.kernel.comms.registerTarget(comm_id, (comm) => {\n          var messages = comm.messages[Symbol.asyncIterator]();\n          function processIteratorResult(result) {\n            var message = result.value;\n            console.log(message)\n            var content = {data: message.data, comm_id};\n            var buffers = []\n            for (var buffer of message.buffers || []) {\n              buffers.push(new DataView(buffer))\n            }\n            var metadata = message.metadata || {};\n            var msg = {content, buffers, metadata}\n            msg_handler(msg);\n            return messages.next().then(processIteratorResult);\n          }\n          return messages.next().then(processIteratorResult);\n        })\n      }\n    }\n\n    JupyterCommManager.prototype.get_client_comm = function(plot_id, comm_id, msg_handler) {\n      if (comm_id in window.PyViz.comms) {\n        return window.PyViz.comms[comm_id];\n      } else if (window.comm_manager || ((window.Jupyter !== undefined) && (Jupyter.notebook.kernel != null))) {\n        var comm_manager = window.comm_manager || Jupyter.notebook.kernel.comm_manager;\n        var comm = comm_manager.new_comm(comm_id, {}, {}, {}, comm_id);\n        if (msg_handler) {\n          comm.on_msg(msg_handler);\n        }\n      } else if ((plot_id in window.PyViz.kernels) && (window.PyViz.kernels[plot_id])) {\n        var comm = window.PyViz.kernels[plot_id].connectToComm(comm_id);\n        comm.open();\n        if (msg_handler) {\n          comm.onMsg = msg_handler;\n        }\n      } else if (typeof google != 'undefined' && google.colab.kernel != null) {\n        var comm_promise = google.colab.kernel.comms.open(comm_id)\n        comm_promise.then((comm) => {\n          window.PyViz.comms[comm_id] = comm;\n          if (msg_handler) {\n            var messages = comm.messages[Symbol.asyncIterator]();\n            function processIteratorResult(result) {\n              var message = result.value;\n              var content = {data: message.data};\n              var metadata = message.metadata || {comm_id};\n              var msg = {content, metadata}\n              msg_handler(msg);\n              return messages.next().then(processIteratorResult);\n            }\n            return messages.next().then(processIteratorResult);\n          }\n        }) \n        var sendClosure = (data, metadata, buffers, disposeOnDone) => {\n          return comm_promise.then((comm) => {\n            comm.send(data, metadata, buffers, disposeOnDone);\n          });\n        };\n        var comm = {\n          send: sendClosure\n        };\n      }\n      window.PyViz.comms[comm_id] = comm;\n      return comm;\n    }\n    window.PyViz.comm_manager = new JupyterCommManager();\n    \n\n\nvar JS_MIME_TYPE = 'application/javascript';\nvar HTML_MIME_TYPE = 'text/html';\nvar EXEC_MIME_TYPE = 'application/vnd.holoviews_exec.v0+json';\nvar CLASS_NAME = 'output';\n\n/**\n * Render data to the DOM node\n */\nfunction render(props, node) {\n  var div = document.createElement(\"div\");\n  var script = document.createElement(\"script\");\n  node.appendChild(div);\n  node.appendChild(script);\n}\n\n/**\n * Handle when a new output is added\n */\nfunction handle_add_output(event, handle) {\n  var output_area = handle.output_area;\n  var output = handle.output;\n  if ((output.data == undefined) || (!output.data.hasOwnProperty(EXEC_MIME_TYPE))) {\n    return\n  }\n  var id = output.metadata[EXEC_MIME_TYPE][\"id\"];\n  var toinsert = output_area.element.find(\".\" + CLASS_NAME.split(' ')[0]);\n  if (id !== undefined) {\n    var nchildren = toinsert.length;\n    var html_node = toinsert[nchildren-1].children[0];\n    html_node.innerHTML = output.data[HTML_MIME_TYPE];\n    var scripts = [];\n    var nodelist = html_node.querySelectorAll(\"script\");\n    for (var i in nodelist) {\n      if (nodelist.hasOwnProperty(i)) {\n        scripts.push(nodelist[i])\n      }\n    }\n\n    scripts.forEach( function (oldScript) {\n      var newScript = document.createElement(\"script\");\n      var attrs = [];\n      var nodemap = oldScript.attributes;\n      for (var j in nodemap) {\n        if (nodemap.hasOwnProperty(j)) {\n          attrs.push(nodemap[j])\n        }\n      }\n      attrs.forEach(function(attr) { newScript.setAttribute(attr.name, attr.value) });\n      newScript.appendChild(document.createTextNode(oldScript.innerHTML));\n      oldScript.parentNode.replaceChild(newScript, oldScript);\n    });\n    if (JS_MIME_TYPE in output.data) {\n      toinsert[nchildren-1].children[1].textContent = output.data[JS_MIME_TYPE];\n    }\n    output_area._hv_plot_id = id;\n    if ((window.Bokeh !== undefined) && (id in Bokeh.index)) {\n      window.PyViz.plot_index[id] = Bokeh.index[id];\n    } else {\n      window.PyViz.plot_index[id] = null;\n    }\n  } else if (output.metadata[EXEC_MIME_TYPE][\"server_id\"] !== undefined) {\n    var bk_div = document.createElement(\"div\");\n    bk_div.innerHTML = output.data[HTML_MIME_TYPE];\n    var script_attrs = bk_div.children[0].attributes;\n    for (var i = 0; i < script_attrs.length; i++) {\n      toinsert[toinsert.length - 1].childNodes[1].setAttribute(script_attrs[i].name, script_attrs[i].value);\n    }\n    // store reference to server id on output_area\n    output_area._bokeh_server_id = output.metadata[EXEC_MIME_TYPE][\"server_id\"];\n  }\n}\n\n/**\n * Handle when an output is cleared or removed\n */\nfunction handle_clear_output(event, handle) {\n  var id = handle.cell.output_area._hv_plot_id;\n  var server_id = handle.cell.output_area._bokeh_server_id;\n  if (((id === undefined) || !(id in PyViz.plot_index)) && (server_id !== undefined)) { return; }\n  var comm = window.PyViz.comm_manager.get_client_comm(\"hv-extension-comm\", \"hv-extension-comm\", function () {});\n  if (server_id !== null) {\n    comm.send({event_type: 'server_delete', 'id': server_id});\n    return;\n  } else if (comm !== null) {\n    comm.send({event_type: 'delete', 'id': id});\n  }\n  delete PyViz.plot_index[id];\n  if ((window.Bokeh !== undefined) & (id in window.Bokeh.index)) {\n    var doc = window.Bokeh.index[id].model.document\n    doc.clear();\n    const i = window.Bokeh.documents.indexOf(doc);\n    if (i > -1) {\n      window.Bokeh.documents.splice(i, 1);\n    }\n  }\n}\n\n/**\n * Handle kernel restart event\n */\nfunction handle_kernel_cleanup(event, handle) {\n  delete PyViz.comms[\"hv-extension-comm\"];\n  window.PyViz.plot_index = {}\n}\n\n/**\n * Handle update_display_data messages\n */\nfunction handle_update_output(event, handle) {\n  handle_clear_output(event, {cell: {output_area: handle.output_area}})\n  handle_add_output(event, handle)\n}\n\nfunction register_renderer(events, OutputArea) {\n  function append_mime(data, metadata, element) {\n    // create a DOM node to render to\n    var toinsert = this.create_output_subarea(\n    metadata,\n    CLASS_NAME,\n    EXEC_MIME_TYPE\n    );\n    this.keyboard_manager.register_events(toinsert);\n    // Render to node\n    var props = {data: data, metadata: metadata[EXEC_MIME_TYPE]};\n    render(props, toinsert[0]);\n    element.append(toinsert);\n    return toinsert\n  }\n\n  events.on('output_added.OutputArea', handle_add_output);\n  events.on('output_updated.OutputArea', handle_update_output);\n  events.on('clear_output.CodeCell', handle_clear_output);\n  events.on('delete.Cell', handle_clear_output);\n  events.on('kernel_ready.Kernel', handle_kernel_cleanup);\n\n  OutputArea.prototype.register_mime_type(EXEC_MIME_TYPE, append_mime, {\n    safe: true,\n    index: 0\n  });\n}\n\nif (window.Jupyter !== undefined) {\n  try {\n    var events = require('base/js/events');\n    var OutputArea = require('notebook/js/outputarea').OutputArea;\n    if (OutputArea.prototype.mime_types().indexOf(EXEC_MIME_TYPE) == -1) {\n      register_renderer(events, OutputArea);\n    }\n  } catch(err) {\n  }\n}\n",
      "application/vnd.holoviews_load.v0+json": ""
     },
     "metadata": {},
     "output_type": "display_data"
    },
    {
     "data": {
      "application/vnd.holoviews_exec.v0+json": "",
      "text/html": [
       "<div id='577c7335-7ba2-4d05-a52a-abb8e01c8578'>\n",
       "  <div id=\"dc6e5e7b-5673-4839-8e01-d03b79c9ecf6\" data-root-id=\"577c7335-7ba2-4d05-a52a-abb8e01c8578\" style=\"display: contents;\"></div>\n",
       "</div>\n",
       "<script type=\"application/javascript\">(function(root) {\n",
       "  var docs_json = {\"6eeb5374-c5a3-4d47-8e70-4be32b7a7177\":{\"version\":\"3.6.2\",\"title\":\"Bokeh Application\",\"roots\":[{\"type\":\"object\",\"name\":\"panel.models.browser.BrowserInfo\",\"id\":\"577c7335-7ba2-4d05-a52a-abb8e01c8578\"},{\"type\":\"object\",\"name\":\"panel.models.comm_manager.CommManager\",\"id\":\"41210fbe-efcc-4bc7-b21f-28619ad27ea2\",\"attributes\":{\"plot_id\":\"577c7335-7ba2-4d05-a52a-abb8e01c8578\",\"comm_id\":\"36ac94a5858e46d0b2c7c743949c8130\",\"client_comm_id\":\"0604836293f24517ae01bde708eb6293\"}}],\"defs\":[{\"type\":\"model\",\"name\":\"ReactiveHTML1\"},{\"type\":\"model\",\"name\":\"FlexBox1\",\"properties\":[{\"name\":\"align_content\",\"kind\":\"Any\",\"default\":\"flex-start\"},{\"name\":\"align_items\",\"kind\":\"Any\",\"default\":\"flex-start\"},{\"name\":\"flex_direction\",\"kind\":\"Any\",\"default\":\"row\"},{\"name\":\"flex_wrap\",\"kind\":\"Any\",\"default\":\"wrap\"},{\"name\":\"gap\",\"kind\":\"Any\",\"default\":\"\"},{\"name\":\"justify_content\",\"kind\":\"Any\",\"default\":\"flex-start\"}]},{\"type\":\"model\",\"name\":\"FloatPanel1\",\"properties\":[{\"name\":\"config\",\"kind\":\"Any\",\"default\":{\"type\":\"map\"}},{\"name\":\"contained\",\"kind\":\"Any\",\"default\":true},{\"name\":\"position\",\"kind\":\"Any\",\"default\":\"right-top\"},{\"name\":\"offsetx\",\"kind\":\"Any\",\"default\":null},{\"name\":\"offsety\",\"kind\":\"Any\",\"default\":null},{\"name\":\"theme\",\"kind\":\"Any\",\"default\":\"primary\"},{\"name\":\"status\",\"kind\":\"Any\",\"default\":\"normalized\"}]},{\"type\":\"model\",\"name\":\"GridStack1\",\"properties\":[{\"name\":\"mode\",\"kind\":\"Any\",\"default\":\"warn\"},{\"name\":\"ncols\",\"kind\":\"Any\",\"default\":null},{\"name\":\"nrows\",\"kind\":\"Any\",\"default\":null},{\"name\":\"allow_resize\",\"kind\":\"Any\",\"default\":true},{\"name\":\"allow_drag\",\"kind\":\"Any\",\"default\":true},{\"name\":\"state\",\"kind\":\"Any\",\"default\":[]}]},{\"type\":\"model\",\"name\":\"drag1\",\"properties\":[{\"name\":\"slider_width\",\"kind\":\"Any\",\"default\":5},{\"name\":\"slider_color\",\"kind\":\"Any\",\"default\":\"black\"},{\"name\":\"value\",\"kind\":\"Any\",\"default\":50}]},{\"type\":\"model\",\"name\":\"click1\",\"properties\":[{\"name\":\"terminal_output\",\"kind\":\"Any\",\"default\":\"\"},{\"name\":\"debug_name\",\"kind\":\"Any\",\"default\":\"\"},{\"name\":\"clears\",\"kind\":\"Any\",\"default\":0}]},{\"type\":\"model\",\"name\":\"FastWrapper1\",\"properties\":[{\"name\":\"object\",\"kind\":\"Any\",\"default\":null},{\"name\":\"style\",\"kind\":\"Any\",\"default\":null}]},{\"type\":\"model\",\"name\":\"NotificationAreaBase1\",\"properties\":[{\"name\":\"js_events\",\"kind\":\"Any\",\"default\":{\"type\":\"map\"}},{\"name\":\"position\",\"kind\":\"Any\",\"default\":\"bottom-right\"},{\"name\":\"_clear\",\"kind\":\"Any\",\"default\":0}]},{\"type\":\"model\",\"name\":\"NotificationArea1\",\"properties\":[{\"name\":\"js_events\",\"kind\":\"Any\",\"default\":{\"type\":\"map\"}},{\"name\":\"notifications\",\"kind\":\"Any\",\"default\":[]},{\"name\":\"position\",\"kind\":\"Any\",\"default\":\"bottom-right\"},{\"name\":\"_clear\",\"kind\":\"Any\",\"default\":0},{\"name\":\"types\",\"kind\":\"Any\",\"default\":[{\"type\":\"map\",\"entries\":[[\"type\",\"warning\"],[\"background\",\"#ffc107\"],[\"icon\",{\"type\":\"map\",\"entries\":[[\"className\",\"fas fa-exclamation-triangle\"],[\"tagName\",\"i\"],[\"color\",\"white\"]]}]]},{\"type\":\"map\",\"entries\":[[\"type\",\"info\"],[\"background\",\"#007bff\"],[\"icon\",{\"type\":\"map\",\"entries\":[[\"className\",\"fas fa-info-circle\"],[\"tagName\",\"i\"],[\"color\",\"white\"]]}]]}]}]},{\"type\":\"model\",\"name\":\"Notification\",\"properties\":[{\"name\":\"background\",\"kind\":\"Any\",\"default\":null},{\"name\":\"duration\",\"kind\":\"Any\",\"default\":3000},{\"name\":\"icon\",\"kind\":\"Any\",\"default\":null},{\"name\":\"message\",\"kind\":\"Any\",\"default\":\"\"},{\"name\":\"notification_type\",\"kind\":\"Any\",\"default\":null},{\"name\":\"_destroyed\",\"kind\":\"Any\",\"default\":false}]},{\"type\":\"model\",\"name\":\"TemplateActions1\",\"properties\":[{\"name\":\"open_modal\",\"kind\":\"Any\",\"default\":0},{\"name\":\"close_modal\",\"kind\":\"Any\",\"default\":0}]},{\"type\":\"model\",\"name\":\"BootstrapTemplateActions1\",\"properties\":[{\"name\":\"open_modal\",\"kind\":\"Any\",\"default\":0},{\"name\":\"close_modal\",\"kind\":\"Any\",\"default\":0}]},{\"type\":\"model\",\"name\":\"TemplateEditor1\",\"properties\":[{\"name\":\"layout\",\"kind\":\"Any\",\"default\":[]}]},{\"type\":\"model\",\"name\":\"MaterialTemplateActions1\",\"properties\":[{\"name\":\"open_modal\",\"kind\":\"Any\",\"default\":0},{\"name\":\"close_modal\",\"kind\":\"Any\",\"default\":0}]},{\"type\":\"model\",\"name\":\"ReactiveESM1\",\"properties\":[{\"name\":\"esm_constants\",\"kind\":\"Any\",\"default\":{\"type\":\"map\"}}]},{\"type\":\"model\",\"name\":\"JSComponent1\",\"properties\":[{\"name\":\"esm_constants\",\"kind\":\"Any\",\"default\":{\"type\":\"map\"}}]},{\"type\":\"model\",\"name\":\"ReactComponent1\",\"properties\":[{\"name\":\"esm_constants\",\"kind\":\"Any\",\"default\":{\"type\":\"map\"}}]},{\"type\":\"model\",\"name\":\"AnyWidgetComponent1\",\"properties\":[{\"name\":\"esm_constants\",\"kind\":\"Any\",\"default\":{\"type\":\"map\"}}]},{\"type\":\"model\",\"name\":\"request_value1\",\"properties\":[{\"name\":\"fill\",\"kind\":\"Any\",\"default\":\"none\"},{\"name\":\"_synced\",\"kind\":\"Any\",\"default\":null},{\"name\":\"_request_sync\",\"kind\":\"Any\",\"default\":0}]}]}};\n",
       "  var render_items = [{\"docid\":\"6eeb5374-c5a3-4d47-8e70-4be32b7a7177\",\"roots\":{\"577c7335-7ba2-4d05-a52a-abb8e01c8578\":\"dc6e5e7b-5673-4839-8e01-d03b79c9ecf6\"},\"root_ids\":[\"577c7335-7ba2-4d05-a52a-abb8e01c8578\"]}];\n",
       "  var docs = Object.values(docs_json)\n",
       "  if (!docs) {\n",
       "    return\n",
       "  }\n",
       "  const py_version = docs[0].version.replace('rc', '-rc.').replace('.dev', '-dev.')\n",
       "  async function embed_document(root) {\n",
       "    var Bokeh = get_bokeh(root)\n",
       "    await Bokeh.embed.embed_items_notebook(docs_json, render_items);\n",
       "    for (const render_item of render_items) {\n",
       "      for (const root_id of render_item.root_ids) {\n",
       "\tconst id_el = document.getElementById(root_id)\n",
       "\tif (id_el.children.length && id_el.children[0].hasAttribute('data-root-id')) {\n",
       "\t  const root_el = id_el.children[0]\n",
       "\t  root_el.id = root_el.id + '-rendered'\n",
       "\t  for (const child of root_el.children) {\n",
       "            // Ensure JupyterLab does not capture keyboard shortcuts\n",
       "            // see: https://jupyterlab.readthedocs.io/en/4.1.x/extension/notebook.html#keyboard-interaction-model\n",
       "\t    child.setAttribute('data-lm-suppress-shortcuts', 'true')\n",
       "\t  }\n",
       "\t}\n",
       "      }\n",
       "    }\n",
       "  }\n",
       "  function get_bokeh(root) {\n",
       "    if (root.Bokeh === undefined) {\n",
       "      return null\n",
       "    } else if (root.Bokeh.version !== py_version) {\n",
       "      if (root.Bokeh.versions === undefined || !root.Bokeh.versions.has(py_version)) {\n",
       "\treturn null\n",
       "      }\n",
       "      return root.Bokeh.versions.get(py_version);\n",
       "    } else if (root.Bokeh.version === py_version) {\n",
       "      return root.Bokeh\n",
       "    }\n",
       "    return null\n",
       "  }\n",
       "  function is_loaded(root) {\n",
       "    var Bokeh = get_bokeh(root)\n",
       "    return (Bokeh != null && Bokeh.Panel !== undefined)\n",
       "  }\n",
       "  if (is_loaded(root)) {\n",
       "    embed_document(root);\n",
       "  } else {\n",
       "    var attempts = 0;\n",
       "    var timer = setInterval(function(root) {\n",
       "      if (is_loaded(root)) {\n",
       "        clearInterval(timer);\n",
       "        embed_document(root);\n",
       "      } else if (document.readyState == \"complete\") {\n",
       "        attempts++;\n",
       "        if (attempts > 200) {\n",
       "          clearInterval(timer);\n",
       "\t  var Bokeh = get_bokeh(root)\n",
       "\t  if (Bokeh == null || Bokeh.Panel == null) {\n",
       "            console.warn(\"Panel: ERROR: Unable to run Panel code because Bokeh or Panel library is missing\");\n",
       "\t  } else {\n",
       "\t    console.warn(\"Panel: WARNING: Attempting to render but not all required libraries could be resolved.\")\n",
       "\t    embed_document(root)\n",
       "\t  }\n",
       "        }\n",
       "      }\n",
       "    }, 25, root)\n",
       "  }\n",
       "})(window);</script>"
      ]
     },
     "metadata": {
      "application/vnd.holoviews_exec.v0+json": {
       "id": "577c7335-7ba2-4d05-a52a-abb8e01c8578"
      }
     },
     "output_type": "display_data"
    }
   ],
   "source": [
    "# Interoperable file paths\n",
    "# Find the home folder\n",
    "# Work with vector data\n",
    "# Interactive plots of vector data\n",
    "import os\n",
    "import geopandas as gpd\n",
    "import hvplot.pandas\n",
    "import pathlib\n",
    "import matplotlib\n",
    "import cartopy\n",
    "import geoviews"
   ]
  },
  {
   "cell_type": "markdown",
   "id": "e51bccae-e240-4961-a8de-04d996468c61",
   "metadata": {},
   "source": [
    "<link rel=\"stylesheet\" type=\"text/css\" href=\"./assets/styles.css\"><div class=\"callout callout-style-default callout-titled callout-task\"><div class=\"callout-header\"><div class=\"callout-icon-container\"><i class=\"callout-icon\"></i></div><div class=\"callout-title-container flex-fill\">Try It: Prepare data directory</div></div><div class=\"callout-body-container callout-body\"><p>In the cell below, <strong>reproducibly and interoperably</strong>\n",
    "define and create a project data directory somewhere in your home\n",
    "folder. Be careful not to save data files to your <code>git</code>\n",
    "repository!</p></div></div>"
   ]
  },
  {
   "cell_type": "code",
   "execution_count": 23,
   "id": "0a04b348",
   "metadata": {
    "highlight": true
   },
   "outputs": [],
   "source": [
    "# Define and create the project data directory\n",
    "data_dir=os.path.join(\n",
    "    pathlib.Path.home(),'earthlab','data','redlining'\n",
    ")\n",
    "os.makedirs(data_dir,exist_ok=True)"
   ]
  },
  {
   "cell_type": "markdown",
   "id": "57c696b2-c65d-4c09-b82e-f5c068a23011",
   "metadata": {},
   "source": [
    "## STEP 2: Site map\n",
    "\n",
    "<link rel=\"stylesheet\" type=\"text/css\" href=\"./assets/styles.css\"><div class=\"callout callout-style-default callout-titled callout-task\"><div class=\"callout-header\"><div class=\"callout-icon-container\"><i class=\"callout-icon\"></i></div><div class=\"callout-title-container flex-fill\">Try It: Define your study area</div></div><div class=\"callout-body-container callout-body\"><ol type=\"1\">\n",
    "<li>Copy the <strong>geopackage</strong> URL for the <a\n",
    "href=\"https://dsl.richmond.edu/panorama/redlining/data\">University of\n",
    "Richmond</a></li>\n",
    "<li>Load the <em>vector</em> data into Python, making sure to cache the\n",
    "download so you don’t have to run it multiple times.</li>\n",
    "<li>Create a quick plot to check the data</li>\n",
    "</ol></div></div>"
   ]
  },
  {
   "cell_type": "code",
   "execution_count": 24,
   "id": "b36db150",
   "metadata": {
    "highlight": true
   },
   "outputs": [
    {
     "name": "stderr",
     "output_type": "stream",
     "text": [
      "c:\\Users\\ABaker\\OneDrive - UCB-O365\\GEOG 4463\\Redlining\\fundamentals-04-redlining-atticusbaker\\fundamentals-04-redlining-atticusbaker\\.venv\\Lib\\site-packages\\pyogrio\\raw.py:198: RuntimeWarning: C:\\Users\\ABaker\\earthlab\\data\\redlining\\redlining\\redlining.shp contains polygon(s) with rings with invalid winding order. Autocorrecting them, but that shapefile should be corrected using ogr2ogr for example.\n",
      "  return ogr_read(\n"
     ]
    },
    {
     "data": {
      "text/plain": [
       "<Axes: >"
      ]
     },
     "execution_count": 24,
     "metadata": {},
     "output_type": "execute_result"
    },
    {
     "data": {
      "image/png": "[encoded data removed]",
      "text/plain": [
       "<Figure size 640x480 with 1 Axes>"
      ]
     },
     "metadata": {},
     "output_type": "display_data"
    }
   ],
   "source": [
    "# Define info for redlining download\n",
    "url = \"https://dsl.richmond.edu/panorama/redlining/static/mappinginequality.gpkg\"\n",
    "redlining_dir = os.path.join(data_dir, 'redlining')\n",
    "os.makedirs(redlining_dir, exist_ok=True)\n",
    "redlining_path = os.path.join(redlining_dir, 'redlining.shp')\n",
    "\n",
    "# Only download once\n",
    "if not os.path.exists(redlining_path):\n",
    "    redlining_gdf = gpd.read_file(url)\n",
    "    redlining_gdf.to_file(redlining_path)\n",
    "\n",
    "# Load from file\n",
    "redlining_gdf = gpd.read_file(redlining_path)\n",
    "\n",
    "# Check the data\n",
    "redlining_gdf.plot()"
   ]
  },
  {
   "cell_type": "markdown",
   "id": "491f26db-1f5c-4cc6-8804-40b2fc2f7b2e",
   "metadata": {},
   "source": [
    "<link rel=\"stylesheet\" type=\"text/css\" href=\"./assets/styles.css\"><div class=\"callout callout-style-default callout-titled callout-task\"><div class=\"callout-header\"><div class=\"callout-icon-container\"><i class=\"callout-icon\"></i></div><div class=\"callout-title-container flex-fill\">Try It: Create an interactive site map</div></div><div class=\"callout-body-container callout-body\"><p>In the cell below:</p>\n",
    "<ol type=\"1\">\n",
    "<li>Select only the data where the <code>city</code> column is equal to\n",
    "<code>\"Denver\"</code>.</li>\n",
    "<li>For now, dissolve the regions with the <code>.dissolve()</code>\n",
    "method so we see only a map of Denver.</li>\n",
    "<li>Plot the data with the <code>EsriImagery</code> tile source basemap.\n",
    "Make sure we can see your basemap underneath!</li>\n",
    "</ol></div></div>\n",
    "\n",
    "<link rel=\"stylesheet\" type=\"text/css\" href=\"./assets/styles.css\"><div class=\"callout callout-style-default callout-titled callout-respond\"><div class=\"callout-header\"><div class=\"callout-icon-container\"><i class=\"callout-icon\"></i></div><div class=\"callout-title-container flex-fill\">Reflect and Respond: Write a site description</div></div><div class=\"callout-body-container callout-body\"><p>Your site description should address:</p>\n",
    "<ol type=\"1\">\n",
    "<li>Is there anything relevant to this analysis that you notice in your\n",
    "site map?</li>\n",
    "<li>Research about the <strong>context</strong> of this analysis. You\n",
    "could include information about the climate and history of the Denver\n",
    "area. How might racism, water rights, or other societal forces have\n",
    "influenced the distribution of urban green space in Denver? Aim for a\n",
    "paragraph of text.</li>\n",
    "<li>Citations for the site data and your context sources.</li>\n",
    "</ol></div></div>"
   ]
  },
  {
   "cell_type": "code",
   "execution_count": 25,
   "id": "314db038",
   "metadata": {},
   "outputs": [
    {
     "data": {},
     "metadata": {},
     "output_type": "display_data"
    },
    {
     "data": {
      "application/vnd.holoviews_exec.v0+json": "",
      "text/html": [
       "<div id='c83d9a33-711e-43c1-8acb-83eacc7f905e'>\n",
       "  <div id=\"a4d32b07-947d-465a-809d-16f1d96f6008\" data-root-id=\"c83d9a33-711e-43c1-8acb-83eacc7f905e\" style=\"display: contents;\"></div>\n",
       "</div>\n",
       "<script type=\"application/javascript\">(function(root) {\n",
       "  var docs_json = {\"d63d9fdf-d085-4d8c-a117-1f37effedec4\":{\"version\":\"3.6.2\",\"title\":\"Bokeh Application\",\"roots\":[{\"type\":\"object\",\"name\":\"Row\",\"id\":\"c83d9a33-711e-43c1-8acb-83eacc7f905e\",\"attributes\":{\"name\":\"Row00586\",\"tags\":[\"embedded\"],\"stylesheets\":[\"\\n:host(.pn-loading):before, .pn-loading:before {\\n  background-color: #c3c3c3;\\n  mask-size: auto calc(min(50%, 400px));\\n  -webkit-mask-size: auto calc(min(50%, 400px));\\n}\",{\"type\":\"object\",\"name\":\"ImportedStyleSheet\",\"id\":\"09482e21-2adb-4e73-9022-d2ffb9d604ce\",\"attributes\":{\"url\":\"https://cdn.holoviz.org/panel/1.5.4/dist/css/loading.css\"}},{\"type\":\"object\",\"name\":\"ImportedStyleSheet\",\"id\":\"e61d1a98-f78d-49f1-9b4d-cbb80a379b27\",\"attributes\":{\"url\":\"https://cdn.holoviz.org/panel/1.5.4/dist/css/listpanel.css\"}},{\"type\":\"object\",\"name\":\"ImportedStyleSheet\",\"id\":\"de6d61fb-1b5e-4c72-90ca-63922aacae8e\",\"attributes\":{\"url\":\"https://cdn.holoviz.org/panel/1.5.4/dist/bundled/theme/default.css\"}},{\"type\":\"object\",\"name\":\"ImportedStyleSheet\",\"id\":\"d34d3d66-917e-424e-be78-6c684fa40366\",\"attributes\":{\"url\":\"https://cdn.holoviz.org/panel/1.5.4/dist/bundled/theme/native.css\"}}],\"margin\":0,\"sizing_mode\":\"stretch_width\",\"align\":\"start\",\"children\":[{\"type\":\"object\",\"name\":\"Spacer\",\"id\":\"0f11b9fe-69e9-4d43-943b-f053595d8417\",\"attributes\":{\"name\":\"HSpacer00590\",\"stylesheets\":[\"\\n:host(.pn-loading):before, .pn-loading:before {\\n  background-color: #c3c3c3;\\n  mask-size: auto calc(min(50%, 400px));\\n  -webkit-mask-size: auto calc(min(50%, 400px));\\n}\",{\"id\":\"09482e21-2adb-4e73-9022-d2ffb9d604ce\"},{\"id\":\"de6d61fb-1b5e-4c72-90ca-63922aacae8e\"},{\"id\":\"d34d3d66-917e-424e-be78-6c684fa40366\"}],\"margin\":0,\"sizing_mode\":\"stretch_width\",\"align\":\"start\"}},{\"type\":\"object\",\"name\":\"Figure\",\"id\":\"76494bef-30a8-472e-8c20-1eae207d3847\",\"attributes\":{\"width\":null,\"height\":null,\"margin\":[5,10],\"sizing_mode\":\"fixed\",\"align\":\"start\",\"x_range\":{\"type\":\"object\",\"name\":\"Range1d\",\"id\":\"cbfa3781-5587-4b4e-afa7-c870cd881bd0\",\"attributes\":{\"name\":\"Longitude\",\"tags\":[[[\"Longitude\",null]],[]],\"start\":-11697309.297297163,\"end\":-11672938.733801506,\"reset_start\":-11697309.297297163,\"reset_end\":-11672938.733801506,\"min_interval\":5}},\"y_range\":{\"type\":\"object\",\"name\":\"Range1d\",\"id\":\"6b8da093-144f-4ebe-a153-db4016701b24\",\"attributes\":{\"name\":\"Latitude\",\"tags\":[[[\"Latitude\",null]],{\"type\":\"map\",\"entries\":[[\"invert_yaxis\",false],[\"autorange\",false]]}],\"start\":4809912.168790077,\"end\":4837971.343803185,\"reset_start\":4809912.168790077,\"reset_end\":4837971.343803185,\"min_interval\":5}},\"x_scale\":{\"type\":\"object\",\"name\":\"LinearScale\",\"id\":\"7e1f87a8-a704-4af7-8613-a9d9373afb02\"},\"y_scale\":{\"type\":\"object\",\"name\":\"LinearScale\",\"id\":\"b422eb17-3810-4833-a209-d34f80c6a627\"},\"title\":{\"type\":\"object\",\"name\":\"Title\",\"id\":\"ba42a95c-68a3-457a-8bb0-aa8736b11f9a\",\"attributes\":{\"text\":\"City of Denver\",\"text_color\":\"black\",\"text_font_size\":\"12pt\"}},\"renderers\":[{\"type\":\"object\",\"name\":\"TileRenderer\",\"id\":\"32367cfd-629e-48e1-b3ca-da3c728e886e\",\"attributes\":{\"level\":\"underlay\",\"tile_source\":{\"type\":\"object\",\"name\":\"WMTSTileSource\",\"id\":\"35352b65-22c6-4aa9-a5f1-1910f5b86f7f\",\"attributes\":{\"url\":\"https://server.arcgisonline.com/ArcGIS/rest/services/World_Imagery/MapServer/tile/{Z}/{Y}/{X}.jpg\",\"attribution\":\"&copy; <a href=\\\"http://downloads.esri.com/ArcGISOnline/docs/tou_summary.pdf\\\">Esri</a>, Earthstar Geographics\"}}}},{\"type\":\"object\",\"name\":\"GlyphRenderer\",\"id\":\"4a0b85c2-3530-4037-bab8-f8ed0918fa3f\",\"attributes\":{\"data_source\":{\"type\":\"object\",\"name\":\"ColumnDataSource\",\"id\":\"591c78f7-30b7-42d6-9cf8-a69c9a4c5115\",\"attributes\":{\"selected\":{\"type\":\"object\",\"name\":\"Selection\",\"id\":\"556eb168-aa6b-4647-953e-11d778de4a4b\",\"attributes\":{\"indices\":[],\"line_indices\":[]}},\"selection_policy\":{\"type\":\"object\",\"name\":\"UnionRenderers\",\"id\":\"db637abc-ea06-471a-b8f4-fae4710be019\"},\"data\":{\"type\":\"map\",\"entries\":[[\"xs\",[[[{\"type\":\"ndarray\",\"array\":{\"type\":\"bytes\",\"data\":\"VU08ywRLZsHT72SSIktmwe9sBYtOS2bB72wFi05LZsEQNc7Ei0tmwfdsiD9US2bBoggJSgJLZsGKLWHQmEpmwfQB8BOvSmbBQb28kqxKZsFS3E+hj0pmweDDz1/0SmbBUfy/iyNLZsGft4wKIUtmwQkV2yXySmbBMWbm6+9KZsF6pJuP0kpmwcR4HgHSSmbBcSGtAeJKZsFxIa0B4kpmwQ8owM4pS2bBik3RuixLZsGKTdG6LEtmwSndo18vS2bB3wgh7i9LZsFOR2UYL0tmwSndo18vS2bBs9DLGjRLZsFaLjLaMktmwU5sRrzWSmbB7DNc+bJKZsFJIR57xUpmwQh/DVjVSmbBMQIIuNxKZsEIfw1Y1UpmwY9TqG0CS2bBftA2KwxLZsFVTTzLBEtmwegnMUgNS2bBLZL+0iNLZsHYbHxtPUtmwYYCqXkbS2bBr7eScyxLZsHFyn2Fb0tmwShU5Id0S2bBUwnOgYVLZsEc6qvshUtmwY9gtmNkS2bB+HIyrpFLZsG3O2RG2UtmwRvvi/kOTGbBQyk4Aw5MZsEsaKx1aExmwXg8L+dnTGbBzoA+8iVMZsFhKUTVJExmwWDl1YulTGbBN/M3QKdNZsHtHrXOp01mwZNqnN4wTmbBl1Hm6y5OZsEJRYWJIk5mwW6c/PEdTmbBg/mpS7BNZsEqVxALr01mwRo3mrcPTWbBGjeatw9NZsHIggR8nk1mwbHmWZKgTWbBoTizrTJOZsGhOLOtMk5mwXy01QhvTWbBCnzl3D9NZsGMb4rjPk1mwXA3O3lOTWbBNxgZ5E5NZsE7RLR/iE1mwR3adXuOTWbBtZu0BZVNZsGMfJjZoE1mwYx8mNmgTWbBwbRwYaJNZsEuBheA001mwS4GF4DTTWbB+tpM7jNOZsFXZDA8M05mwSq2fYWuTmbBKrZ9ha5OZsFZcT4ylU5mwZCQYMeUTmbBfM7x9DJOZsGMnAjENE5mwekl7BE0TmbBvSyUzqNOZsGK9LtGok5mwbTtE4oyTmbBfM7x9DJOZsE5JSfasE1mwTsMceeuTWbB9mKmzCxNZsErm35ULk1mwVBJrlatTGbBZP4OM61MZsEn/vaOf0xmwcp0E0GATGbBJDY6J1lMZsGg5ArrFkxmwQ8jTxUWTGbBZcs8VOdLZsGzhgnT5EtmwXE7ye2lS2bB4HkNGKVLZsEkCbxGY0tmwbbKdxxkS2bBik3RuixLZsFpmGp1IUtmwU6eNVbgSmbB6xQ81blKZsGXqvtfuUpmwVykj727SmbBKaMXiddJZsHxg/Xz10lmwUomjzTZSWbByHysdSlJZsH+uz71vElmwWcxYL7TSGbBwNP5/tRIZsExzeyamEhmwR2CvvB7SGbBunvDx2FIZsG+Yg3VX0hmweFp054ISWbBl5VQLQlJZsHuriqWT0lmwbB8I1gYSWbBRiUpOxdJZsGwfCNYGElmwamujz0cSWbBE2Oulp5IZsE0PfZ/UUhmwdyaXD9QSGbBtjCbhlBIZsG5jiW8k0hmwZQkZAOUSGbBxwvAS7RIZsHHC8BLtEhmwa1DesZ8SGbB7gpsjRRIZsECwMxpFEhmwWA2TsPhR2bBYDZOw+FHZsEh5bnf0kdmwXxunS3SR2bBNOuW+7NHZsF/vxlts0dmwVR0YqWFR2bBVHRipYVHZsEYChjPdEdmwbyANIF1R2bBTWF9/E1HZsFzyz61TUdmwe5HIN8BR2bBkb48kQJHZsEX/QnZEkdmwVAcLG4SR2bB7zS+6s9GZsFfcwIVz0ZmwctTvAmLRmbBOZIANIpGZsGGITIXTkZmwUVsv/8rRmbBQQEn1IZFZsH3LKRih0VmwRcNQEoKRWbBFw1ASgpFZsEw5wR/t0RmwTDnBH+3RGbBT6K/wpJEZsF1DIF7kkRmwXGcd5bZRGbBcZx3ltlEZsHwon6RCkVmwZUZm0MLRWbBXp1UcopFZsHcqa9ri0VmwefVzbvKRWbB/nF4pchFZsGjRh+NDEZmwQDQAtsLRmbBsdDHEo9GZsGekqde1EZmwUTwDR7TRmbBcNfmse1GZsFluNZXEEdmwb5acJgRR2bBRKyf1FNHZsFErJ/UU0dmwbocVk1iR2bB8jt44mFHZsG15I8Ag0dmwUamS9aDR2bBeI2nHqRHZsGurMmzo0dmwcV6YzerR2bByvd6EsZHZsHK93oSxkdmwfve1lrmR2bBM/747+VHZsG80pMFE0hmweE8Vb4SSGbBxjCh71tIZsEiMcVloEhmwWge/smhSGbBkPmrrBZJZsFrj+rzFklmwRQZ7E5PSWbBb1FTXW1JZsHVOESVtUlmwY99+sq9SWbBMD+8CcpJZsHYzhFj0klmwU4N2UHXSWbB386UF9hJZsH4H5p0yklmwXuJnF5SSWbBW8HTJBVJZsHsgo/6FUlmwUYlKTsXSWbB3bR4KxRJZsGYC64QkkhmwYVWTTSSSGbBgAsl84BIZsG9EZGVfkhmwQ7mlruDSGbBRgW5UINIZsHxrUdRk0hmwfGtR1GTSGbBW+a0yLxIZsG4oYewxUhmwV//7W/ESGbBXAVCbpRIZsESMb/8lEhmwaTyetKVSGbB2RfxZWVIZsGTKrgBZEhmwbJJUXlSSGbBfxF58VBIZsFc+DN4MkhmwfGgOVsxSGbBM7qKpmZIZsGMwAIbe0hmwYQS3+oSSWbBl8c/xxJJZsEBUgzD2UlmwThxLljZSWbB7am53DtKZsElydtxO0pmwTSqVDVvSmbBxGsQC3BKZsEEvaTufkpmwXP76Bh+SmbB2we79G1KZsGj6JhfbkpmwRAtMYg9SmbBSExTHT1KZsF9GvlyW0pmwX0a+XJbSmbBzJB0Yx1KZsFKnc9cHkpmwUqdz1weSmbB8KNl3mtKZsEpJ2anfkpmwd9S4zV/SmbBRraFTyBKZsFCzztCIkpmwWZMX+9TSmbBi19QaqJKZsEQOj9+n0pmwUk0gG/3SmbBhjSYEyVLZsHQCBuFJEtmwfgnN7EYS2bBQvy5IhhLZsFkTUI0EEtmwQ==\"},\"shape\":[284],\"dtype\":\"float64\",\"order\":\"little\"},{\"type\":\"ndarray\",\"array\":{\"type\":\"bytes\",\"data\":\"HSZ9+bZJZsFPXlWBuElmwSZFjVOUSWbBHSZ9+bZJZsE=\"},\"shape\":[4],\"dtype\":\"float64\",\"order\":\"little\"},{\"type\":\"ndarray\",\"array\":{\"type\":\"bytes\",\"data\":\"ATo5FZRKZsFQgbrklEpmwTlZW6qTSmbBqLOsgZNKZsEBOjkVlEpmwQ==\"},\"shape\":[5],\"dtype\":\"float64\",\"order\":\"little\"},{\"type\":\"ndarray\",\"array\":{\"type\":\"bytes\",\"data\":\"ClGsMiNJZsGxrhLyIUlmwY6oL201SWbBVokN2DVJZsHhEgNhV0lmwZNXNuJZSWbBzHAEeYlJZsGUUeLjiUlmwfUl7nKaSWbBDcKYXJhJZsF7AN2Gl0lmwZ99ADTJSWbBgkWxydhJZsHIMuot2klmwT/6cOSZSWbB/fOBjZZJZsER+l6pd0lmwUoZgT53SWbBGDIl9lZJZsHyx2M9V0lmweESA2FXSWbBX6gdMhNJZsFyXX4OE0lmwQpRrDIjSWbB\"},\"shape\":[24],\"dtype\":\"float64\",\"order\":\"little\"},{\"type\":\"ndarray\",\"array\":{\"type\":\"bytes\",\"data\":\"3C7l1pNLZsHH9hghqUtmwShU5Id0S2bBmZIosnNLZsEOgHNRl0tmwdwu5daTS2bB\"},\"shape\":[6],\"dtype\":\"float64\",\"order\":\"little\"},{\"type\":\"ndarray\",\"array\":{\"type\":\"bytes\",\"data\":\"OE95N2xMZsGlClKIgExmwdqmCESVTGbBkNKF0pVMZsFd6ymKdUxmwSqBYmhqTGbBOE95N2xMZsE=\"},\"shape\":[7],\"dtype\":\"float64\",\"order\":\"little\"},{\"type\":\"ndarray\",\"array\":{\"type\":\"bytes\",\"data\":\"stP3nW5NZsHhxvviLk1mwYckYqItTWbBoR6XwW5NZsGy0/edbk1mwQ==\"},\"shape\":[5],\"dtype\":\"float64\",\"order\":\"little\"},{\"type\":\"ndarray\",\"array\":{\"type\":\"bytes\",\"data\":\"K45wXsxMZsHST7VR3kxmwWNDYMHoTGbBiN8QFPJMZsG+Q4Q3LU1mwb5DhDctTWbBX3yGnn5NZsGTtF4mgE1mwYmnzXsYTWbBGiqMwa1MZsE/lE16rUxmwV3GSObNTGbBK45wXsxMZsE=\"},\"shape\":[13],\"dtype\":\"float64\",\"order\":\"little\"},{\"type\":\"ndarray\",\"array\":{\"type\":\"bytes\",\"data\":\"c+Y95s1IZsGEs3FwE0hmwe4KbI0USGbB4IGmTE5IZsHFdfJ9l0hmwYbNjVzXSGbBPleVIBtJZsF2dre1GklmwRnt02cbSWbBc+Y95s1IZsE=\"},\"shape\":[10],\"dtype\":\"float64\",\"order\":\"little\"},{\"type\":\"ndarray\",\"array\":{\"type\":\"bytes\",\"data\":\"pAyXvllJZsEJ205PmklmwfUl7nKaSWbBTsiHs5tJZsHfwYYhdklmwZY+gO9XSWbBlj6A71dJZsF6j/BcIklmwbGuEvIhSWbBqQVge81IZsGpBWB7zUhmwULHngXUSGbBQseeBdRIZsFjwVbZGklmwYOJHxNYSWbBpAyXvllJZsE=\"},\"shape\":[16],\"dtype\":\"float64\",\"order\":\"little\"},{\"type\":\"ndarray\",\"array\":{\"type\":\"bytes\",\"data\":\"Nw+VWp9GZsGQsS6boEZmwXHEhL27RmbBMBwgnPtGZsGZ8K7fEUdmwRf9CdkSR2bBtTtgPjRHZsGZNQBuTUdmwZ5I5RaFR2bBW1VYtLNHZsHBPEns+0dmwU97megRSGbBF1x3UxJIZsFPe5noEUhmwQcQZmQ5R2bBNw+VWp9GZsE=\"},\"shape\":[16],\"dtype\":\"float64\",\"order\":\"little\"},{\"type\":\"ndarray\",\"array\":{\"type\":\"bytes\",\"data\":\"xJ3/pHlKZsHEnf+keUpmwV7DHGOTSmbBFCGJi51KZsEUIYmLnUpmwcSd/6R5SmbB\"},\"shape\":[6],\"dtype\":\"float64\",\"order\":\"little\"},{\"type\":\"ndarray\",\"array\":{\"type\":\"bytes\",\"data\":\"f3iDqJ5KZsFuwyLMnkpmwVqq47uLSmbB5LyYHGhKZsFBRnxqZ0pmwX94g6ieSmbB\"},\"shape\":[6],\"dtype\":\"float64\",\"order\":\"little\"},{\"type\":\"ndarray\",\"array\":{\"type\":\"bytes\",\"data\":\"piOHJ+NHZsEkMOIg5EdmwXzYz1+1R2bBoUKRGLVHZsGmI4cn40dmwQ==\"},\"shape\":[5],\"dtype\":\"float64\",\"order\":\"little\"}],[{\"type\":\"ndarray\",\"array\":{\"type\":\"bytes\",\"data\":\"I3PueEZLZsGlNKTlO0tmwRxBfCo3S2bBHEF8KjdLZsFMkgqlOktmwZlN1yM4S2bBdeMVazhLZsFp/EipNEtmwevv7a8zS2bBHyjGNzVLZsFRQREaX0tmwVFBERpfS2bBrZgFzlRLZsEc10n4U0tmwQ==\"},\"shape\":[14],\"dtype\":\"float64\",\"order\":\"little\"}],[{\"type\":\"ndarray\",\"array\":{\"type\":\"bytes\",\"data\":\"/LewgGVLZsFgDyjpYEtmwS8ozKBAS2bB9wiqC0FLZsHkYFclo0tmwXUiE/ujS2bBM5NkzOVLZsGMNf4M50tmwSEvgC/HS2bBpglvQ8RLZsEO5FGFqktmwT8D8WWkS2bB5GBXJaNLZsH8t7CAZUtmwQ==\"},\"shape\":[14],\"dtype\":\"float64\",\"order\":\"little\"}],[{\"type\":\"ndarray\",\"array\":{\"type\":\"bytes\",\"data\":\"bAVI159IZsGDofLAnUhmwcmOKyWfSGbBZzFgvtNIZsGtHpki1UhmwWDsi3uSSGbBP2kU0JBIZsGo2cTfk0hmwQdK8jqRSGbBIjHFZaBIZsE=\"},\"shape\":[10],\"dtype\":\"float64\",\"order\":\"little\"}]]]],[\"ys\",[[[{\"type\":\"ndarray\",\"array\":{\"type\":\"bytes\",\"data\":\"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\"},\"shape\":[284],\"dtype\":\"float64\",\"order\":\"little\"},{\"type\":\"ndarray\",\"array\":{\"type\":\"bytes\",\"data\":\"rOmvuWtvUkFi+cIaaG9SQTRKISC4b1JBrOmvuWtvUkE=\"},\"shape\":[4],\"dtype\":\"float64\",\"order\":\"little\"},{\"type\":\"ndarray\",\"array\":{\"type\":\"bytes\",\"data\":\"8Sxko2xnUkGwdSr+/mdSQSuNtp+tZlJBHH0wYIZmUkHxLGSjbGdSQQ==\"},\"shape\":[5],\"dtype\":\"float64\",\"order\":\"little\"},{\"type\":\"ndarray\",\"array\":{\"type\":\"bytes\",\"data\":\"XZXG9WNjUkFt3vyRiWNSQQYQuqeKY1JB1/i58qdjUkG5PfQzq2NSQcN5qLBsZFJBRtjkmmtkUkE1AA4XqWRSQZ6nAeaqZFJBhO/sTeZlUkEJNBaIeWZSQS/R6J16ZlJBL9HonXpmUkHDeaiwbGRSQVbGt+FqZFJBK86qxGVjUkEr3D4hZmNSQQ2WDpcjY1JBDZYOlyNjUkGfaMAhomJSQYyJ1cPhYVJBXlbCgt5hUkGljDKZY2NSQV2VxvVjY1JB\"},\"shape\":[24],\"dtype\":\"float64\",\"order\":\"little\"},{\"type\":\"ndarray\",\"array\":{\"type\":\"bytes\",\"data\":\"RBPQqS9qUkHpTpnaLWpSQfgXUDIyalJBvuFW145qUkFKOSgZkmpSQUQT0KkvalJB\"},\"shape\":[6],\"dtype\":\"float64\",\"order\":\"little\"},{\"type\":\"ndarray\",\"array\":{\"type\":\"bytes\",\"data\":\"2ZgCzqFsUkE6CquuqGxSQToKq66obFJBJp95hXxsUkHvK9TmeGxSQTQp2aR1bFJB2ZgCzqFsUkE=\"},\"shape\":[7],\"dtype\":\"float64\",\"order\":\"little\"},{\"type\":\"ndarray\",\"array\":{\"type\":\"bytes\",\"data\":\"H0lktsNvUkGrNNPQwG9SQeFAyRFGcFJBxyTG0z5wUkEfSWS2w29SQQ==\"},\"shape\":[5],\"dtype\":\"float64\",\"order\":\"little\"},{\"type\":\"ndarray\",\"array\":{\"type\":\"bytes\",\"data\":\"DdPdflNxUkEWtf+UVHFSQdEBGnFKcVJBeFhYY0FxUkGDpkl1RnFSQYrPhZEVcVJBo6SbMBlxUkEse7MawHBSQRACWADDcFJBEAJYAMNwUkFXAcvVhXFSQQW3p7+EcVJBDdPdflNxUkE=\"},\"shape\":[13],\"dtype\":\"float64\",\"order\":\"little\"},{\"type\":\"ndarray\",\"array\":{\"type\":\"bytes\",\"data\":\"VTHbXZ9rUkEZUSsXoGtSQeHmTTkhbVJB17pKIyBtUkGQekT3HW1SQZB6RPcdbVJBClo+yxttUkEp3ENWaWxSQRYVi6Sea1JBVTHbXZ9rUkE=\"},\"shape\":[10],\"dtype\":\"float64\",\"order\":\"little\"},{\"type\":\"ndarray\",\"array\":{\"type\":\"bytes\",\"data\":\"OD6+i5NqUkEy2PlalWpSQR8X+9JGalJBv8UUq4ZpUkHz6yuVhWlSQfPrK5WFaVJBemLM3LtpUkGrQVpPvWlSQa6XQ3qIaVJBxbq3B4dpUkF0Xiqy8GlSQXVNcmvxaVJBSHeUihBqUkFg7rpeDmpSQdJtAxgPalJBOD6+i5NqUkE=\"},\"shape\":[16],\"dtype\":\"float64\",\"order\":\"little\"},{\"type\":\"ndarray\",\"array\":{\"type\":\"bytes\",\"data\":\"dn0VpoppUkE10J2m3GpSQRJoUe3balJBXMuUf9ZqUkESaFHt22pSQUK6kVZNalJBjLgT309qUkHXdl2YUGpSQYy4E99PalJBtiElyU5qUkG2ISXJTmpSQeHGOsRSalJBsLWuKe5pUkGhf3JJimlSQcV7W1+LaVJBdn0VpoppUkE=\"},\"shape\":[16],\"dtype\":\"float64\",\"order\":\"little\"},{\"type\":\"ndarray\",\"array\":{\"type\":\"bytes\",\"data\":\"ylh358drUkGmuTOd8mtSQdFuhVbza1JB0W6FVvNrUkGG586Kx2tSQcpYd+fHa1JB\"},\"shape\":[6],\"dtype\":\"float64\",\"order\":\"little\"},{\"type\":\"ndarray\",\"array\":{\"type\":\"bytes\",\"data\":\"vbO2eBVrUkEKALIx8GpSQcjxOtzWalJBw+ofCNlqUkHhecJiFGtSQb2ztngVa1JB\"},\"shape\":[6],\"dtype\":\"float64\",\"order\":\"little\"},{\"type\":\"ndarray\",\"array\":{\"type\":\"bytes\",\"data\":\"cYYjTWJoUkGCD5uF7mdSQVw42T7vZ1JBcYYjTWJoUkFxhiNNYmhSQQ==\"},\"shape\":[5],\"dtype\":\"float64\",\"order\":\"little\"}],[{\"type\":\"ndarray\",\"array\":{\"type\":\"bytes\",\"data\":\"B/3j6qdiUkHst1fWlWJSQSuDaw5/YlJBEw19bV1iUkG06Be+JWJSQc4Z84kJYlJB/RnoIdFhUkHf6VVGqGFSQeEja0+CYVJBAy+mWFxhUkGmZsQRXWFSQXcMFzbjYVJBL9M37+NhUkHWK1O+tmJSQQ==\"},\"shape\":[14],\"dtype\":\"float64\",\"order\":\"little\"}],[{\"type\":\"ndarray\",\"array\":{\"type\":\"bytes\",\"data\":\"TEAdhIRnUkF8a/w7fmZSQQIl3854ZlJBdljXqvdlUkEONHXW+WVSQQsNOqN2ZlJBEpUMuXdmUkEsRTZk5GdSQXI28I/mZ1JBF0SLp7BnUkEXRIunsGdSQX0ZUbygZ1JBULrRr4ZnUkFMQB2EhGdSQQ==\"},\"shape\":[14],\"dtype\":\"float64\",\"order\":\"little\"}],[{\"type\":\"ndarray\",\"array\":{\"type\":\"bytes\",\"data\":\"Cc1ZTttxUkG7EScCy3FSQU3rwxxCcVJBJLUVNz9xUkF+jVdOTHJSQRZbTcVJclJBFCkA5ilyUkF7LtjPKHJSQcanCpgEclJBYUE3NwhyUkE=\"},\"shape\":[10],\"dtype\":\"float64\",\"order\":\"little\"}]]]]]}}},\"view\":{\"type\":\"object\",\"name\":\"CDSView\",\"id\":\"a01a88ad-ac2f-4d05-b3bf-b2a7d258693b\",\"attributes\":{\"filter\":{\"type\":\"object\",\"name\":\"AllIndices\",\"id\":\"0e88b768-ba10-47b0-8fd6-616505208e67\"}}},\"glyph\":{\"type\":\"object\",\"name\":\"MultiPolygons\",\"id\":\"6b8a7969-3a31-4fc0-afe5-fc8b0fbfc275\",\"attributes\":{\"xs\":{\"type\":\"field\",\"field\":\"xs\"},\"ys\":{\"type\":\"field\",\"field\":\"ys\"},\"line_color\":{\"type\":\"value\",\"value\":\"darkorange\"},\"line_width\":{\"type\":\"value\",\"value\":3},\"fill_color\":{\"type\":\"value\",\"value\":null},\"hatch_color\":{\"type\":\"value\",\"value\":\"#30a2da\"}}},\"selection_glyph\":{\"type\":\"object\",\"name\":\"MultiPolygons\",\"id\":\"783c2b3d-6317-4f9d-a97a-692bc7184004\",\"attributes\":{\"xs\":{\"type\":\"field\",\"field\":\"xs\"},\"ys\":{\"type\":\"field\",\"field\":\"ys\"},\"line_color\":{\"type\":\"value\",\"value\":\"darkorange\"},\"line_alpha\":{\"type\":\"value\",\"value\":1.0},\"line_width\":{\"type\":\"value\",\"value\":3},\"line_join\":{\"type\":\"value\",\"value\":\"bevel\"},\"line_cap\":{\"type\":\"value\",\"value\":\"butt\"},\"line_dash\":{\"type\":\"value\",\"value\":[]},\"line_dash_offset\":{\"type\":\"value\",\"value\":0},\"fill_color\":{\"type\":\"value\",\"value\":null},\"fill_alpha\":{\"type\":\"value\",\"value\":1.0},\"hatch_color\":{\"type\":\"value\",\"value\":\"#30a2da\"},\"hatch_alpha\":{\"type\":\"value\",\"value\":1.0},\"hatch_scale\":{\"type\":\"value\",\"value\":12.0},\"hatch_pattern\":{\"type\":\"value\",\"value\":null},\"hatch_weight\":{\"type\":\"value\",\"value\":1.0}}},\"nonselection_glyph\":{\"type\":\"object\",\"name\":\"MultiPolygons\",\"id\":\"52279d8a-2ba1-42e7-b45f-20bf2795559d\",\"attributes\":{\"xs\":{\"type\":\"field\",\"field\":\"xs\"},\"ys\":{\"type\":\"field\",\"field\":\"ys\"},\"line_color\":{\"type\":\"value\",\"value\":\"darkorange\"},\"line_alpha\":{\"type\":\"value\",\"value\":0.1},\"line_width\":{\"type\":\"value\",\"value\":3},\"fill_color\":{\"type\":\"value\",\"value\":null},\"fill_alpha\":{\"type\":\"value\",\"value\":0.1},\"hatch_color\":{\"type\":\"value\",\"value\":\"#30a2da\"},\"hatch_alpha\":{\"type\":\"value\",\"value\":0.1}}},\"muted_glyph\":{\"type\":\"object\",\"name\":\"MultiPolygons\",\"id\":\"ae4f98f7-c343-4059-a68d-8600841ad523\",\"attributes\":{\"xs\":{\"type\":\"field\",\"field\":\"xs\"},\"ys\":{\"type\":\"field\",\"field\":\"ys\"},\"line_color\":{\"type\":\"value\",\"value\":\"darkorange\"},\"line_alpha\":{\"type\":\"value\",\"value\":0.2},\"line_width\":{\"type\":\"value\",\"value\":3},\"fill_color\":{\"type\":\"value\",\"value\":null},\"fill_alpha\":{\"type\":\"value\",\"value\":0.2},\"hatch_color\":{\"type\":\"value\",\"value\":\"#30a2da\"},\"hatch_alpha\":{\"type\":\"value\",\"value\":0.2}}}}}],\"toolbar\":{\"type\":\"object\",\"name\":\"Toolbar\",\"id\":\"e4284e0d-6730-4890-b68a-3425fa255f43\",\"attributes\":{\"tools\":[{\"type\":\"object\",\"name\":\"WheelZoomTool\",\"id\":\"e9dd2b29-4428-46e4-aad7-c1112f3c9c37\",\"attributes\":{\"renderers\":\"auto\",\"zoom_on_axis\":false}},{\"type\":\"object\",\"name\":\"BoxZoomTool\",\"id\":\"9a7e0b3f-e492-40be-9478-c475bd6eb8da\",\"attributes\":{\"overlay\":{\"type\":\"object\",\"name\":\"BoxAnnotation\",\"id\":\"a7956b37-9e0a-4aa0-9999-ec1b0d086dd7\",\"attributes\":{\"syncable\":false,\"line_color\":\"black\",\"line_alpha\":1.0,\"line_width\":2,\"line_dash\":[4,4],\"fill_color\":\"lightgrey\",\"fill_alpha\":0.5,\"level\":\"overlay\",\"visible\":false,\"left\":{\"type\":\"number\",\"value\":\"nan\"},\"right\":{\"type\":\"number\",\"value\":\"nan\"},\"top\":{\"type\":\"number\",\"value\":\"nan\"},\"bottom\":{\"type\":\"number\",\"value\":\"nan\"},\"left_units\":\"canvas\",\"right_units\":\"canvas\",\"top_units\":\"canvas\",\"bottom_units\":\"canvas\",\"handles\":{\"type\":\"object\",\"name\":\"BoxInteractionHandles\",\"id\":\"c1e33df3-a982-4b13-9d0e-d1100c54c7bf\",\"attributes\":{\"all\":{\"type\":\"object\",\"name\":\"AreaVisuals\",\"id\":\"c76cbef9-8ea0-4e61-a493-2e630e99f448\",\"attributes\":{\"fill_color\":\"white\",\"hover_fill_color\":\"lightgray\"}}}}}},\"match_aspect\":true}},{\"type\":\"object\",\"name\":\"PanTool\",\"id\":\"95f834ce-5742-407a-b845-449cf5df0403\"},{\"type\":\"object\",\"name\":\"ResetTool\",\"id\":\"6a526743-44de-4eca-a396-6f890adfee5a\"}],\"active_drag\":{\"id\":\"95f834ce-5742-407a-b845-449cf5df0403\"}}},\"left\":[{\"type\":\"object\",\"name\":\"LinearAxis\",\"id\":\"940e15ee-8722-4cb3-ae56-4a1a5fb4cd33\",\"attributes\":{\"ticker\":{\"type\":\"object\",\"name\":\"MercatorTicker\",\"id\":\"4e95ea4c-d3d8-46e2-9c8e-ccf35a456cae\",\"attributes\":{\"mantissas\":[1,2,5],\"dimension\":\"lat\"}},\"formatter\":{\"type\":\"object\",\"name\":\"MercatorTickFormatter\",\"id\":\"33a062d3-4c0d-423c-a3ca-73826c846fdd\",\"attributes\":{\"dimension\":\"lat\"}},\"axis_label\":\"Latitude\",\"major_label_policy\":{\"type\":\"object\",\"name\":\"AllLabels\",\"id\":\"6d150551-8063-4774-bf6e-734156dfa3af\"}}}],\"below\":[{\"type\":\"object\",\"name\":\"LinearAxis\",\"id\":\"27658fae-d589-4ed5-8128-1ce4b61d6cda\",\"attributes\":{\"ticker\":{\"type\":\"object\",\"name\":\"MercatorTicker\",\"id\":\"92e53e3e-7d26-4bb0-8cfe-6344c758cf23\",\"attributes\":{\"mantissas\":[1,2,5],\"dimension\":\"lon\"}},\"formatter\":{\"type\":\"object\",\"name\":\"MercatorTickFormatter\",\"id\":\"db37d48e-6770-4a62-9122-791b7236e820\",\"attributes\":{\"dimension\":\"lon\"}},\"axis_label\":\"Longitude\",\"major_label_policy\":{\"type\":\"object\",\"name\":\"AllLabels\",\"id\":\"1c0f96d5-3994-4593-82fb-9000422afa22\"}}}],\"center\":[{\"type\":\"object\",\"name\":\"Grid\",\"id\":\"81e55d36-9d78-47d8-b94b-c379c88c8926\",\"attributes\":{\"axis\":{\"id\":\"27658fae-d589-4ed5-8128-1ce4b61d6cda\"},\"grid_line_color\":null}},{\"type\":\"object\",\"name\":\"Grid\",\"id\":\"8c8877c4-feb8-4e9a-840f-735a967a9a91\",\"attributes\":{\"dimension\":1,\"axis\":{\"id\":\"940e15ee-8722-4cb3-ae56-4a1a5fb4cd33\"},\"grid_line_color\":null}}],\"frame_width\":600,\"frame_height\":690,\"min_border_top\":10,\"min_border_bottom\":10,\"min_border_left\":10,\"min_border_right\":10,\"output_backend\":\"webgl\",\"match_aspect\":true}},{\"type\":\"object\",\"name\":\"Spacer\",\"id\":\"cfe91c33-b642-49d5-83ed-29b73950181f\",\"attributes\":{\"name\":\"HSpacer00591\",\"stylesheets\":[\"\\n:host(.pn-loading):before, .pn-loading:before {\\n  background-color: #c3c3c3;\\n  mask-size: auto calc(min(50%, 400px));\\n  -webkit-mask-size: auto calc(min(50%, 400px));\\n}\",{\"id\":\"09482e21-2adb-4e73-9022-d2ffb9d604ce\"},{\"id\":\"de6d61fb-1b5e-4c72-90ca-63922aacae8e\"},{\"id\":\"d34d3d66-917e-424e-be78-6c684fa40366\"}],\"margin\":0,\"sizing_mode\":\"stretch_width\",\"align\":\"start\"}}]}}],\"defs\":[{\"type\":\"model\",\"name\":\"ReactiveHTML1\"},{\"type\":\"model\",\"name\":\"FlexBox1\",\"properties\":[{\"name\":\"align_content\",\"kind\":\"Any\",\"default\":\"flex-start\"},{\"name\":\"align_items\",\"kind\":\"Any\",\"default\":\"flex-start\"},{\"name\":\"flex_direction\",\"kind\":\"Any\",\"default\":\"row\"},{\"name\":\"flex_wrap\",\"kind\":\"Any\",\"default\":\"wrap\"},{\"name\":\"gap\",\"kind\":\"Any\",\"default\":\"\"},{\"name\":\"justify_content\",\"kind\":\"Any\",\"default\":\"flex-start\"}]},{\"type\":\"model\",\"name\":\"FloatPanel1\",\"properties\":[{\"name\":\"config\",\"kind\":\"Any\",\"default\":{\"type\":\"map\"}},{\"name\":\"contained\",\"kind\":\"Any\",\"default\":true},{\"name\":\"position\",\"kind\":\"Any\",\"default\":\"right-top\"},{\"name\":\"offsetx\",\"kind\":\"Any\",\"default\":null},{\"name\":\"offsety\",\"kind\":\"Any\",\"default\":null},{\"name\":\"theme\",\"kind\":\"Any\",\"default\":\"primary\"},{\"name\":\"status\",\"kind\":\"Any\",\"default\":\"normalized\"}]},{\"type\":\"model\",\"name\":\"GridStack1\",\"properties\":[{\"name\":\"mode\",\"kind\":\"Any\",\"default\":\"warn\"},{\"name\":\"ncols\",\"kind\":\"Any\",\"default\":null},{\"name\":\"nrows\",\"kind\":\"Any\",\"default\":null},{\"name\":\"allow_resize\",\"kind\":\"Any\",\"default\":true},{\"name\":\"allow_drag\",\"kind\":\"Any\",\"default\":true},{\"name\":\"state\",\"kind\":\"Any\",\"default\":[]}]},{\"type\":\"model\",\"name\":\"drag1\",\"properties\":[{\"name\":\"slider_width\",\"kind\":\"Any\",\"default\":5},{\"name\":\"slider_color\",\"kind\":\"Any\",\"default\":\"black\"},{\"name\":\"value\",\"kind\":\"Any\",\"default\":50}]},{\"type\":\"model\",\"name\":\"click1\",\"properties\":[{\"name\":\"terminal_output\",\"kind\":\"Any\",\"default\":\"\"},{\"name\":\"debug_name\",\"kind\":\"Any\",\"default\":\"\"},{\"name\":\"clears\",\"kind\":\"Any\",\"default\":0}]},{\"type\":\"model\",\"name\":\"FastWrapper1\",\"properties\":[{\"name\":\"object\",\"kind\":\"Any\",\"default\":null},{\"name\":\"style\",\"kind\":\"Any\",\"default\":null}]},{\"type\":\"model\",\"name\":\"NotificationAreaBase1\",\"properties\":[{\"name\":\"js_events\",\"kind\":\"Any\",\"default\":{\"type\":\"map\"}},{\"name\":\"position\",\"kind\":\"Any\",\"default\":\"bottom-right\"},{\"name\":\"_clear\",\"kind\":\"Any\",\"default\":0}]},{\"type\":\"model\",\"name\":\"NotificationArea1\",\"properties\":[{\"name\":\"js_events\",\"kind\":\"Any\",\"default\":{\"type\":\"map\"}},{\"name\":\"notifications\",\"kind\":\"Any\",\"default\":[]},{\"name\":\"position\",\"kind\":\"Any\",\"default\":\"bottom-right\"},{\"name\":\"_clear\",\"kind\":\"Any\",\"default\":0},{\"name\":\"types\",\"kind\":\"Any\",\"default\":[{\"type\":\"map\",\"entries\":[[\"type\",\"warning\"],[\"background\",\"#ffc107\"],[\"icon\",{\"type\":\"map\",\"entries\":[[\"className\",\"fas fa-exclamation-triangle\"],[\"tagName\",\"i\"],[\"color\",\"white\"]]}]]},{\"type\":\"map\",\"entries\":[[\"type\",\"info\"],[\"background\",\"#007bff\"],[\"icon\",{\"type\":\"map\",\"entries\":[[\"className\",\"fas fa-info-circle\"],[\"tagName\",\"i\"],[\"color\",\"white\"]]}]]}]}]},{\"type\":\"model\",\"name\":\"Notification\",\"properties\":[{\"name\":\"background\",\"kind\":\"Any\",\"default\":null},{\"name\":\"duration\",\"kind\":\"Any\",\"default\":3000},{\"name\":\"icon\",\"kind\":\"Any\",\"default\":null},{\"name\":\"message\",\"kind\":\"Any\",\"default\":\"\"},{\"name\":\"notification_type\",\"kind\":\"Any\",\"default\":null},{\"name\":\"_destroyed\",\"kind\":\"Any\",\"default\":false}]},{\"type\":\"model\",\"name\":\"TemplateActions1\",\"properties\":[{\"name\":\"open_modal\",\"kind\":\"Any\",\"default\":0},{\"name\":\"close_modal\",\"kind\":\"Any\",\"default\":0}]},{\"type\":\"model\",\"name\":\"BootstrapTemplateActions1\",\"properties\":[{\"name\":\"open_modal\",\"kind\":\"Any\",\"default\":0},{\"name\":\"close_modal\",\"kind\":\"Any\",\"default\":0}]},{\"type\":\"model\",\"name\":\"TemplateEditor1\",\"properties\":[{\"name\":\"layout\",\"kind\":\"Any\",\"default\":[]}]},{\"type\":\"model\",\"name\":\"MaterialTemplateActions1\",\"properties\":[{\"name\":\"open_modal\",\"kind\":\"Any\",\"default\":0},{\"name\":\"close_modal\",\"kind\":\"Any\",\"default\":0}]},{\"type\":\"model\",\"name\":\"ReactiveESM1\",\"properties\":[{\"name\":\"esm_constants\",\"kind\":\"Any\",\"default\":{\"type\":\"map\"}}]},{\"type\":\"model\",\"name\":\"JSComponent1\",\"properties\":[{\"name\":\"esm_constants\",\"kind\":\"Any\",\"default\":{\"type\":\"map\"}}]},{\"type\":\"model\",\"name\":\"ReactComponent1\",\"properties\":[{\"name\":\"esm_constants\",\"kind\":\"Any\",\"default\":{\"type\":\"map\"}}]},{\"type\":\"model\",\"name\":\"AnyWidgetComponent1\",\"properties\":[{\"name\":\"esm_constants\",\"kind\":\"Any\",\"default\":{\"type\":\"map\"}}]},{\"type\":\"model\",\"name\":\"request_value1\",\"properties\":[{\"name\":\"fill\",\"kind\":\"Any\",\"default\":\"none\"},{\"name\":\"_synced\",\"kind\":\"Any\",\"default\":null},{\"name\":\"_request_sync\",\"kind\":\"Any\",\"default\":0}]}]}};\n",
       "  var render_items = [{\"docid\":\"d63d9fdf-d085-4d8c-a117-1f37effedec4\",\"roots\":{\"c83d9a33-711e-43c1-8acb-83eacc7f905e\":\"a4d32b07-947d-465a-809d-16f1d96f6008\"},\"root_ids\":[\"c83d9a33-711e-43c1-8acb-83eacc7f905e\"]}];\n",
       "  var docs = Object.values(docs_json)\n",
       "  if (!docs) {\n",
       "    return\n",
       "  }\n",
       "  const py_version = docs[0].version.replace('rc', '-rc.').replace('.dev', '-dev.')\n",
       "  async function embed_document(root) {\n",
       "    var Bokeh = get_bokeh(root)\n",
       "    await Bokeh.embed.embed_items_notebook(docs_json, render_items);\n",
       "    for (const render_item of render_items) {\n",
       "      for (const root_id of render_item.root_ids) {\n",
       "\tconst id_el = document.getElementById(root_id)\n",
       "\tif (id_el.children.length && id_el.children[0].hasAttribute('data-root-id')) {\n",
       "\t  const root_el = id_el.children[0]\n",
       "\t  root_el.id = root_el.id + '-rendered'\n",
       "\t  for (const child of root_el.children) {\n",
       "            // Ensure JupyterLab does not capture keyboard shortcuts\n",
       "            // see: https://jupyterlab.readthedocs.io/en/4.1.x/extension/notebook.html#keyboard-interaction-model\n",
       "\t    child.setAttribute('data-lm-suppress-shortcuts', 'true')\n",
       "\t  }\n",
       "\t}\n",
       "      }\n",
       "    }\n",
       "  }\n",
       "  function get_bokeh(root) {\n",
       "    if (root.Bokeh === undefined) {\n",
       "      return null\n",
       "    } else if (root.Bokeh.version !== py_version) {\n",
       "      if (root.Bokeh.versions === undefined || !root.Bokeh.versions.has(py_version)) {\n",
       "\treturn null\n",
       "      }\n",
       "      return root.Bokeh.versions.get(py_version);\n",
       "    } else if (root.Bokeh.version === py_version) {\n",
       "      return root.Bokeh\n",
       "    }\n",
       "    return null\n",
       "  }\n",
       "  function is_loaded(root) {\n",
       "    var Bokeh = get_bokeh(root)\n",
       "    return (Bokeh != null && Bokeh.Panel !== undefined)\n",
       "  }\n",
       "  if (is_loaded(root)) {\n",
       "    embed_document(root);\n",
       "  } else {\n",
       "    var attempts = 0;\n",
       "    var timer = setInterval(function(root) {\n",
       "      if (is_loaded(root)) {\n",
       "        clearInterval(timer);\n",
       "        embed_document(root);\n",
       "      } else if (document.readyState == \"complete\") {\n",
       "        attempts++;\n",
       "        if (attempts > 200) {\n",
       "          clearInterval(timer);\n",
       "\t  var Bokeh = get_bokeh(root)\n",
       "\t  if (Bokeh == null || Bokeh.Panel == null) {\n",
       "            console.warn(\"Panel: ERROR: Unable to run Panel code because Bokeh or Panel library is missing\");\n",
       "\t  } else {\n",
       "\t    console.warn(\"Panel: WARNING: Attempting to render but not all required libraries could be resolved.\")\n",
       "\t    embed_document(root)\n",
       "\t  }\n",
       "        }\n",
       "      }\n",
       "    }, 25, root)\n",
       "  }\n",
       "})(window);</script>"
      ],
      "text/plain": [
       ":Overlay\n",
       "   .WMTS.I     :WMTS   [Longitude,Latitude]\n",
       "   .Polygons.I :Polygons   [Longitude,Latitude]"
      ]
     },
     "execution_count": 25,
     "metadata": {
      "application/vnd.holoviews_exec.v0+json": {
       "id": "c83d9a33-711e-43c1-8acb-83eacc7f905e"
      }
     },
     "output_type": "execute_result"
    }
   ],
   "source": [
    "denver_redlining_gdf = redlining_gdf[redlining_gdf.city=='Denver']\n",
    "denver_redlining_gdf.dissolve().hvplot(\n",
    "    geo=True, tiles='EsriImagery',\n",
    "    title='City of Denver',\n",
    "    fill_color=None, line_color='darkorange', line_width=3,\n",
    "    frame_width=600\n",
    ")"
   ]
  },
  {
   "cell_type": "markdown",
   "id": "56a5301f-3e6e-4268-8ccd-f56977d2280f",
   "metadata": {},
   "source": [
    "YOUR SITE DESCRIPTION HERE"
   ]
  },
  {
   "cell_type": "markdown",
   "id": "cae045ce-e01f-447b-aab8-defbed89a9c9",
   "metadata": {},
   "source": [
    "<link rel=\"stylesheet\" type=\"text/css\" href=\"./assets/styles.css\"><div class=\"callout callout-style-default callout-titled callout-task\"><div class=\"callout-header\"><div class=\"callout-icon-container\"><i class=\"callout-icon\"></i></div><div class=\"callout-title-container flex-fill\">Try It: Store variables</div></div><div class=\"callout-body-container callout-body\"><p>Store any variables you want for later. This should definitely\n",
    "include your un-dissolved denver redlining <code>GeoDataFrame</code> and\n",
    "your data directory path.</p></div></div>"
   ]
  },
  {
   "cell_type": "code",
   "execution_count": 26,
   "id": "496519d0",
   "metadata": {},
   "outputs": [
    {
     "name": "stdout",
     "output_type": "stream",
     "text": [
      "Stored 'denver_redlining_gdf' (GeoDataFrame)\n",
      "Stored 'data_dir' (str)\n"
     ]
    },
    {
     "name": "stderr",
     "output_type": "stream",
     "text": [
      "c:\\Users\\ABaker\\OneDrive - UCB-O365\\GEOG 4463\\Redlining\\fundamentals-04-redlining-atticusbaker\\fundamentals-04-redlining-atticusbaker\\.venv\\Lib\\site-packages\\IPython\\extensions\\storemagic.py:229: UserWarning: This is now an optional IPython functionality, setting autorestore/denver_redlining_gdf requires you to install the `pickleshare` library.\n",
      "  db[ 'autorestore/' + arg ] = obj\n",
      "c:\\Users\\ABaker\\OneDrive - UCB-O365\\GEOG 4463\\Redlining\\fundamentals-04-redlining-atticusbaker\\fundamentals-04-redlining-atticusbaker\\.venv\\Lib\\site-packages\\IPython\\extensions\\storemagic.py:229: UserWarning: This is now an optional IPython functionality, setting autorestore/data_dir requires you to install the `pickleshare` library.\n",
      "  db[ 'autorestore/' + arg ] = obj\n"
     ]
    }
   ],
   "source": [
    "%store denver_redlining_gdf data_dir"
   ]
  }
 ],
 "metadata": {
  "kernelspec": {
   "display_name": ".venv",
   "language": "python",
   "name": "python3"
  },
  "language_info": {
   "codemirror_mode": {
    "name": "ipython",
    "version": 3
   },
   "file_extension": ".py",
   "mimetype": "text/x-python",
   "name": "python",
   "nbconvert_exporter": "python",
   "pygments_lexer": "ipython3",
   "version": "3.11.9"
  }
 },
 "nbformat": 4,
 "nbformat_minor": 5
}
