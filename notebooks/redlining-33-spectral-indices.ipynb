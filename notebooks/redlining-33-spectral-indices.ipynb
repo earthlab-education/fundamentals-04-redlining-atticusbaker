{
 "cells": [
  {
   "cell_type": "markdown",
   "id": "4f28ef63-73d3-4fb6-8fc6-c6b19379cb26",
   "metadata": {},
   "source": [
    "# Spectral Indices\n",
    "\n",
    "## Observing vegetation health from space\n",
    "\n",
    "When working with multispectral data, the individual reflectance values\n",
    "do not tell us much, but their relationships do. A normalized **spectral\n",
    "index** is a way of measuring the relationship between two (or more)\n",
    "bands.\n",
    "\n",
    "We will look vegetation cover using NDVI (Normalized Difference\n",
    "Vegetation Index). How does it work? First, we need to learn about\n",
    "spectral reflectance signatures.\n",
    "\n",
    "Every object reflects some wavelengths of light more or less than\n",
    "others. We can see this with our eyes, since, for example, plants\n",
    "reflect a lot of green in the summer, and then as that green diminishes\n",
    "in the fall they look more yellow or orange. The image below shows\n",
    "spectral signatures for water, soil, and vegetation:\n",
    "\n",
    "![](https://seos-project.eu/remotesensing/images/Reflexionskurven.jpg)\n",
    "\\> Image source: [SEOS\n",
    "Project](https://seos-project.eu/remotesensing/remotesensing-c01-p06.html)\n",
    "\n",
    "**Healthy vegetation** reflects a lot of **Near-InfraRed (NIR)**\n",
    "radiation. Less healthy vegetation reflects a similar amounts of the\n",
    "visible light spectra, but less NIR radiation. We don’t see a huge drop\n",
    "in Green radiation until the plant is very stressed or dead. That means\n",
    "that NIR allows us to get ahead of what we can see with our eyes.\n",
    "\n",
    "![Healthy leaves reflect a lot of NIR radiation compared to dead or\n",
    "stressed\n",
    "leaves](attachment:../../img/earth-analytics/remote-sensing/spectral_vegetation_stress.png)\n",
    "\\> Image source: [Spectral signature literature review by\n",
    "px39n](https://github.com/px39n/Awesome-Vegetation-Index)\n",
    "\n",
    "Different species of plants reflect different spectral signatures, but\n",
    "the *pattern* of the signatures are similar. NDVI compares the amount of\n",
    "NIR reflectance to the amount of Red reflectance, thus accounting for\n",
    "many of the species differences and isolating the health of the plant.\n",
    "The formula for calculating NDVI is:\n",
    "\n",
    "$$NDVI = \\frac{(NIR - Red)}{(NIR + Red)}$$\n",
    "\n",
    "Read more about NDVI and other vegetation indices:\n",
    "\n",
    "-   [earthdatascience.org](https://www.earthdatascience.org/courses/use-data-open-source-python/multispectral-remote-sensing/vegetation-indices-in-python/calculate-NDVI-python/)\n",
    "-   [USGS](https://www.usgs.gov/landsat-missions/landsat-surface-reflectance-derived-spectral-indices)"
   ]
  },
  {
   "cell_type": "code",
   "execution_count": 7,
   "id": "23c9c3f8",
   "metadata": {},
   "outputs": [],
   "source": [
    "store -r band_dict"
   ]
  },
  {
   "cell_type": "markdown",
   "id": "50c568d9-095a-4c52-b77f-538417bd66f6",
   "metadata": {},
   "source": [
    "<link rel=\"stylesheet\" type=\"text/css\" href=\"./assets/styles.css\"><div class=\"callout callout-style-default callout-titled callout-task\"><div class=\"callout-header\"><div class=\"callout-icon-container\"><i class=\"callout-icon\"></i></div><div class=\"callout-title-container flex-fill\">Try It: Calculate NDVI</div></div><div class=\"callout-body-container callout-body\"></div></div>"
   ]
  },
  {
   "cell_type": "code",
   "execution_count": 8,
   "id": "69327a87",
   "metadata": {
    "highlight": true
   },
   "outputs": [],
   "source": [
    "nir=band_dict['nir']\n",
    "swir=band_dict['swir1']\n",
    "red=band_dict['red']\n",
    "\n",
    "ndvi_da=(nir-red)/(nir+red)\n",
    "ndmi_da=(nir-swir)/(nir+swir)"
   ]
  },
  {
   "cell_type": "code",
   "execution_count": 9,
   "id": "2e78ae61",
   "metadata": {},
   "outputs": [
    {
     "name": "stdout",
     "output_type": "stream",
     "text": [
      "Stored 'ndvi_da' (DataArray)\n"
     ]
    }
   ],
   "source": [
    "%store ndvi_da"
   ]
  },
  {
   "cell_type": "markdown",
   "id": "71c791bb-ba5a-452a-88e8-0ab7ee675ed4",
   "metadata": {},
   "source": [
    "<link rel=\"stylesheet\" type=\"text/css\" href=\"./assets/styles.css\"><div class=\"callout callout-style-default callout-titled callout-extra\"><div class=\"callout-header\"><div class=\"callout-icon-container\"><i class=\"callout-icon\"></i></div><div class=\"callout-title-container flex-fill\">Looking for an Extra Challenge?: Calculate another index</div></div><div class=\"callout-body-container callout-body\"><p>You can also calculating other indices that you find on the internet\n",
    "or in the scientific literature. Some common ones in this context might\n",
    "be the NDMI (moisture), NDBaI (bareness), or the NDBI (built-up).</p></div></div>"
   ]
  }
 ],
 "metadata": {
  "kernelspec": {
   "display_name": ".venv",
   "language": "python",
   "name": "python3"
  },
  "language_info": {
   "codemirror_mode": {
    "name": "ipython",
    "version": 3
   },
   "file_extension": ".py",
   "mimetype": "text/x-python",
   "name": "python",
   "nbconvert_exporter": "python",
   "pygments_lexer": "ipython3",
   "version": "3.11.9"
  }
 },
 "nbformat": 4,
 "nbformat_minor": 5
}
